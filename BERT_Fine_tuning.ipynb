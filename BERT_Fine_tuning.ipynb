{
  "cells": [
    {
      "cell_type": "markdown",
      "metadata": {
        "id": "svxCO_WPs9ck"
      },
      "source": [
        "<h2><center>Notebook Walk-through: </center>\n",
        "    \n",
        "<center>Fine-Tuning BERT - Optimizer Considerations and Layer Freezing\n",
        "</center></h2>\n",
        "\n",
        "In this notebook we discuss some aspects of BERT Fine-tuning for a specific task. We choose a text classification as an example. We will highlight various aspects you may encounter.\n",
        "\n",
        "Specifically, we will:\n",
        "\n",
        "* play with BERT (Hugging Face implementation): Tokenization, Layers and Output Dimensions  \n",
        "* build a sentiment classifier with BERT from scratch and discuss a couple of options you may have\n",
        "* train the network with various configurations and make observations that will hopefully be helpful\n",
        "\n",
        "Note that a lot of the content will be delivered through live experimentation in the walkthrough session, and it will not be recorded in the notebook. Please watch the recording. \n",
        "\n",
        "Also, note that we are not attempting to reach state of the art by any means. The purpose of the notebook is to highlight some of the issues you may want to consider when fine-tuning BERT.\n",
        "\n",
        "We start with a few common imports.\n"
      ],
      "id": "svxCO_WPs9ck"
    },
    {
      "cell_type": "code",
      "execution_count": 128,
      "metadata": {
        "id": "o2ayR9Crs9cm"
      },
      "outputs": [],
      "source": [
        "from google.colab import (drive, files)\n",
        "import pandas as pd\n",
        "import numpy as np\n",
        "import sklearn\n",
        "import os\n",
        "\n",
        "import tensorflow as tf\n",
        "import tensorflow_datasets as tfds\n",
        "\n",
        "!pip install -q transformers\n",
        "\n",
        "import transformers\n",
        "\n",
        "from transformers import BertTokenizer, TFBertModel, BertConfig\n",
        "from tensorflow.keras import backend as K\n",
        "\n",
        "\n",
        "import logging\n",
        "tf.get_logger().setLevel(logging.ERROR)"
      ],
      "id": "o2ayR9Crs9cm"
    },
    {
      "cell_type": "code",
      "source": [
        "from sklearn.feature_extraction.text import CountVectorizer\n",
        "from sklearn.linear_model import LogisticRegression\n",
        "import sklearn.model_selection\n",
        "import sklearn.preprocessing as preproc\n",
        "from sklearn.feature_extraction import text\n",
        "\n",
        "import sklearn.metrics as metrics\n"
      ],
      "metadata": {
        "id": "U3c_wo5sNSOU"
      },
      "id": "U3c_wo5sNSOU",
      "execution_count": 25,
      "outputs": []
    },
    {
      "cell_type": "markdown",
      "metadata": {
        "id": "augtlL8Ts9cn"
      },
      "source": [
        "Let's check for presence of a GPU. We'll need that (or better) if we use transformer models like BERT. "
      ],
      "id": "augtlL8Ts9cn"
    },
    {
      "cell_type": "code",
      "execution_count": 26,
      "metadata": {
        "id": "S_6-qHy3s9cn",
        "outputId": "ade28fc7-e9ae-4f37-a3c0-479f197a1633",
        "colab": {
          "base_uri": "https://localhost:8080/"
        }
      },
      "outputs": [
        {
          "output_type": "execute_result",
          "data": {
            "text/plain": [
              "[PhysicalDevice(name='/physical_device:GPU:0', device_type='GPU')]"
            ]
          },
          "metadata": {},
          "execution_count": 26
        }
      ],
      "source": [
        "tf.config.list_physical_devices('GPU')"
      ],
      "id": "S_6-qHy3s9cn"
    },
    {
      "cell_type": "markdown",
      "metadata": {
        "id": "QpS6PjhPs9co"
      },
      "source": [
        "Next, let's specify the versions that we are using:"
      ],
      "id": "QpS6PjhPs9co"
    },
    {
      "cell_type": "code",
      "execution_count": 27,
      "metadata": {
        "id": "YGhivFfPs9co",
        "outputId": "ee07e3f9-54c9-4270-eb2e-f2213471b64f",
        "colab": {
          "base_uri": "https://localhost:8080/",
          "height": 35
        }
      },
      "outputs": [
        {
          "output_type": "execute_result",
          "data": {
            "text/plain": [
              "'2.8.0'"
            ],
            "application/vnd.google.colaboratory.intrinsic+json": {
              "type": "string"
            }
          },
          "metadata": {},
          "execution_count": 27
        }
      ],
      "source": [
        "tf.__version__"
      ],
      "id": "YGhivFfPs9co"
    },
    {
      "cell_type": "code",
      "execution_count": 28,
      "metadata": {
        "id": "x5y86VSDs9co",
        "outputId": "6864c2ee-bce5-437c-c4cf-3583a0d24905",
        "colab": {
          "base_uri": "https://localhost:8080/",
          "height": 35
        }
      },
      "outputs": [
        {
          "output_type": "execute_result",
          "data": {
            "text/plain": [
              "'4.18.0'"
            ],
            "application/vnd.google.colaboratory.intrinsic+json": {
              "type": "string"
            }
          },
          "metadata": {},
          "execution_count": 28
        }
      ],
      "source": [
        "transformers.__version__"
      ],
      "id": "x5y86VSDs9co"
    },
    {
      "cell_type": "markdown",
      "source": [
        "#### TODO\n",
        "1) Import our data\n"
      ],
      "metadata": {
        "id": "Qr_VbwSTFP1c"
      },
      "id": "Qr_VbwSTFP1c"
    },
    {
      "cell_type": "code",
      "source": [
        "drive.mount('/content/gdrive', force_remount=True)\n",
        "path = \"/content/gdrive\"\n",
        "os.chdir(path)"
      ],
      "metadata": {
        "colab": {
          "base_uri": "https://localhost:8080/"
        },
        "id": "0GZ49VtMFbU-",
        "outputId": "02e35ac6-ea45-4c84-d6fd-aa25ccad375f"
      },
      "id": "0GZ49VtMFbU-",
      "execution_count": 30,
      "outputs": [
        {
          "output_type": "stream",
          "name": "stdout",
          "text": [
            "Mounted at /content/gdrive\n"
          ]
        }
      ]
    },
    {
      "cell_type": "code",
      "source": [
        "## Get our cleaned data (from the DataCreation2.ipynb), which is stored in good_lyrics_data.csv\n",
        "df = pd.read_csv('MyDrive/W266_Final_Project/good_lyrics_data.csv')\n",
        "df"
      ],
      "metadata": {
        "colab": {
          "base_uri": "https://localhost:8080/",
          "height": 424
        },
        "id": "3FSIFTWaFmGg",
        "outputId": "defaedb9-bc3f-4097-ace8-538711f91fbb"
      },
      "id": "3FSIFTWaFmGg",
      "execution_count": 31,
      "outputs": [
        {
          "output_type": "execute_result",
          "data": {
            "text/plain": [
              "      Year  Yearly Rank                       Title              Artist(s)  \\\n",
              "0     1960            2             \"Cathy's Clown\"    The Everly Brothers   \n",
              "1     1960            8              \"Stuck on You\"          Elvis Presley   \n",
              "2     1960            9                 \"The Twist\"         Chubby Checker   \n",
              "3     1960           14                   \"El Paso\"          Marty Robbins   \n",
              "4     1960           15                 \"Alley Oop\"  The Hollywood Argyles   \n",
              "...    ...          ...                         ...                    ...   \n",
              "3542  2021           94     \"Single Saturday Night\"          Cole Swindell   \n",
              "3543  2021           95  \"Things a Man Oughta Know\"          Lainey Wilson   \n",
              "3544  2021           96     \"Throat Baby (Go Baby)\"               BRS Kash   \n",
              "3545  2021           97                 \"Tombstone\"               Rod Wave   \n",
              "3546  2021           99                \"Todo de Ti\"         Rauw Alejandro   \n",
              "\n",
              "                                                 Lyrics  Num Chars  Num Words  \\\n",
              "0     Cathy’s Clown Lyrics[Chorus] Don't want your l...        827        156   \n",
              "1     Stuck on You Lyrics[Verse 1] You can shake an ...       1242        242   \n",
              "2     The Twist Lyrics[Chorus:] Come on baby let's d...        754        147   \n",
              "3     El Paso Lyrics[Verse 1] Out in the West Texas ...       2465        496   \n",
              "4     Alley-Oop Lyrics[Intro] (Oop-oop, oop, oop-oop...       1859        299   \n",
              "...                                                 ...        ...        ...   \n",
              "3542  Single Saturday Night Lyrics[Verse 1] I was ou...       2038        390   \n",
              "3543  Things a Man Oughta Know Lyrics[Verse 1] I can...       1341        298   \n",
              "3544  Throat Baby (Go Baby) Lyrics[Intro] (What's ha...       3042        615   \n",
              "3545  Tombstone Lyrics[Intro] Damn, this motherfucke...       2086        393   \n",
              "3546  Todo De Ti Lyrics[Letra de \"Todo De Ti\"]  [Int...       2125        407   \n",
              "\n",
              "     Decade  \n",
              "0     1960s  \n",
              "1     1960s  \n",
              "2     1960s  \n",
              "3     1960s  \n",
              "4     1960s  \n",
              "...     ...  \n",
              "3542  2020s  \n",
              "3543  2020s  \n",
              "3544  2020s  \n",
              "3545  2020s  \n",
              "3546  2020s  \n",
              "\n",
              "[3547 rows x 8 columns]"
            ],
            "text/html": [
              "\n",
              "  <div id=\"df-202c9651-7737-470f-87fd-a9b9720a0e2c\">\n",
              "    <div class=\"colab-df-container\">\n",
              "      <div>\n",
              "<style scoped>\n",
              "    .dataframe tbody tr th:only-of-type {\n",
              "        vertical-align: middle;\n",
              "    }\n",
              "\n",
              "    .dataframe tbody tr th {\n",
              "        vertical-align: top;\n",
              "    }\n",
              "\n",
              "    .dataframe thead th {\n",
              "        text-align: right;\n",
              "    }\n",
              "</style>\n",
              "<table border=\"1\" class=\"dataframe\">\n",
              "  <thead>\n",
              "    <tr style=\"text-align: right;\">\n",
              "      <th></th>\n",
              "      <th>Year</th>\n",
              "      <th>Yearly Rank</th>\n",
              "      <th>Title</th>\n",
              "      <th>Artist(s)</th>\n",
              "      <th>Lyrics</th>\n",
              "      <th>Num Chars</th>\n",
              "      <th>Num Words</th>\n",
              "      <th>Decade</th>\n",
              "    </tr>\n",
              "  </thead>\n",
              "  <tbody>\n",
              "    <tr>\n",
              "      <th>0</th>\n",
              "      <td>1960</td>\n",
              "      <td>2</td>\n",
              "      <td>\"Cathy's Clown\"</td>\n",
              "      <td>The Everly Brothers</td>\n",
              "      <td>Cathy’s Clown Lyrics[Chorus] Don't want your l...</td>\n",
              "      <td>827</td>\n",
              "      <td>156</td>\n",
              "      <td>1960s</td>\n",
              "    </tr>\n",
              "    <tr>\n",
              "      <th>1</th>\n",
              "      <td>1960</td>\n",
              "      <td>8</td>\n",
              "      <td>\"Stuck on You\"</td>\n",
              "      <td>Elvis Presley</td>\n",
              "      <td>Stuck on You Lyrics[Verse 1] You can shake an ...</td>\n",
              "      <td>1242</td>\n",
              "      <td>242</td>\n",
              "      <td>1960s</td>\n",
              "    </tr>\n",
              "    <tr>\n",
              "      <th>2</th>\n",
              "      <td>1960</td>\n",
              "      <td>9</td>\n",
              "      <td>\"The Twist\"</td>\n",
              "      <td>Chubby Checker</td>\n",
              "      <td>The Twist Lyrics[Chorus:] Come on baby let's d...</td>\n",
              "      <td>754</td>\n",
              "      <td>147</td>\n",
              "      <td>1960s</td>\n",
              "    </tr>\n",
              "    <tr>\n",
              "      <th>3</th>\n",
              "      <td>1960</td>\n",
              "      <td>14</td>\n",
              "      <td>\"El Paso\"</td>\n",
              "      <td>Marty Robbins</td>\n",
              "      <td>El Paso Lyrics[Verse 1] Out in the West Texas ...</td>\n",
              "      <td>2465</td>\n",
              "      <td>496</td>\n",
              "      <td>1960s</td>\n",
              "    </tr>\n",
              "    <tr>\n",
              "      <th>4</th>\n",
              "      <td>1960</td>\n",
              "      <td>15</td>\n",
              "      <td>\"Alley Oop\"</td>\n",
              "      <td>The Hollywood Argyles</td>\n",
              "      <td>Alley-Oop Lyrics[Intro] (Oop-oop, oop, oop-oop...</td>\n",
              "      <td>1859</td>\n",
              "      <td>299</td>\n",
              "      <td>1960s</td>\n",
              "    </tr>\n",
              "    <tr>\n",
              "      <th>...</th>\n",
              "      <td>...</td>\n",
              "      <td>...</td>\n",
              "      <td>...</td>\n",
              "      <td>...</td>\n",
              "      <td>...</td>\n",
              "      <td>...</td>\n",
              "      <td>...</td>\n",
              "      <td>...</td>\n",
              "    </tr>\n",
              "    <tr>\n",
              "      <th>3542</th>\n",
              "      <td>2021</td>\n",
              "      <td>94</td>\n",
              "      <td>\"Single Saturday Night\"</td>\n",
              "      <td>Cole Swindell</td>\n",
              "      <td>Single Saturday Night Lyrics[Verse 1] I was ou...</td>\n",
              "      <td>2038</td>\n",
              "      <td>390</td>\n",
              "      <td>2020s</td>\n",
              "    </tr>\n",
              "    <tr>\n",
              "      <th>3543</th>\n",
              "      <td>2021</td>\n",
              "      <td>95</td>\n",
              "      <td>\"Things a Man Oughta Know\"</td>\n",
              "      <td>Lainey Wilson</td>\n",
              "      <td>Things a Man Oughta Know Lyrics[Verse 1] I can...</td>\n",
              "      <td>1341</td>\n",
              "      <td>298</td>\n",
              "      <td>2020s</td>\n",
              "    </tr>\n",
              "    <tr>\n",
              "      <th>3544</th>\n",
              "      <td>2021</td>\n",
              "      <td>96</td>\n",
              "      <td>\"Throat Baby (Go Baby)\"</td>\n",
              "      <td>BRS Kash</td>\n",
              "      <td>Throat Baby (Go Baby) Lyrics[Intro] (What's ha...</td>\n",
              "      <td>3042</td>\n",
              "      <td>615</td>\n",
              "      <td>2020s</td>\n",
              "    </tr>\n",
              "    <tr>\n",
              "      <th>3545</th>\n",
              "      <td>2021</td>\n",
              "      <td>97</td>\n",
              "      <td>\"Tombstone\"</td>\n",
              "      <td>Rod Wave</td>\n",
              "      <td>Tombstone Lyrics[Intro] Damn, this motherfucke...</td>\n",
              "      <td>2086</td>\n",
              "      <td>393</td>\n",
              "      <td>2020s</td>\n",
              "    </tr>\n",
              "    <tr>\n",
              "      <th>3546</th>\n",
              "      <td>2021</td>\n",
              "      <td>99</td>\n",
              "      <td>\"Todo de Ti\"</td>\n",
              "      <td>Rauw Alejandro</td>\n",
              "      <td>Todo De Ti Lyrics[Letra de \"Todo De Ti\"]  [Int...</td>\n",
              "      <td>2125</td>\n",
              "      <td>407</td>\n",
              "      <td>2020s</td>\n",
              "    </tr>\n",
              "  </tbody>\n",
              "</table>\n",
              "<p>3547 rows × 8 columns</p>\n",
              "</div>\n",
              "      <button class=\"colab-df-convert\" onclick=\"convertToInteractive('df-202c9651-7737-470f-87fd-a9b9720a0e2c')\"\n",
              "              title=\"Convert this dataframe to an interactive table.\"\n",
              "              style=\"display:none;\">\n",
              "        \n",
              "  <svg xmlns=\"http://www.w3.org/2000/svg\" height=\"24px\"viewBox=\"0 0 24 24\"\n",
              "       width=\"24px\">\n",
              "    <path d=\"M0 0h24v24H0V0z\" fill=\"none\"/>\n",
              "    <path d=\"M18.56 5.44l.94 2.06.94-2.06 2.06-.94-2.06-.94-.94-2.06-.94 2.06-2.06.94zm-11 1L8.5 8.5l.94-2.06 2.06-.94-2.06-.94L8.5 2.5l-.94 2.06-2.06.94zm10 10l.94 2.06.94-2.06 2.06-.94-2.06-.94-.94-2.06-.94 2.06-2.06.94z\"/><path d=\"M17.41 7.96l-1.37-1.37c-.4-.4-.92-.59-1.43-.59-.52 0-1.04.2-1.43.59L10.3 9.45l-7.72 7.72c-.78.78-.78 2.05 0 2.83L4 21.41c.39.39.9.59 1.41.59.51 0 1.02-.2 1.41-.59l7.78-7.78 2.81-2.81c.8-.78.8-2.07 0-2.86zM5.41 20L4 18.59l7.72-7.72 1.47 1.35L5.41 20z\"/>\n",
              "  </svg>\n",
              "      </button>\n",
              "      \n",
              "  <style>\n",
              "    .colab-df-container {\n",
              "      display:flex;\n",
              "      flex-wrap:wrap;\n",
              "      gap: 12px;\n",
              "    }\n",
              "\n",
              "    .colab-df-convert {\n",
              "      background-color: #E8F0FE;\n",
              "      border: none;\n",
              "      border-radius: 50%;\n",
              "      cursor: pointer;\n",
              "      display: none;\n",
              "      fill: #1967D2;\n",
              "      height: 32px;\n",
              "      padding: 0 0 0 0;\n",
              "      width: 32px;\n",
              "    }\n",
              "\n",
              "    .colab-df-convert:hover {\n",
              "      background-color: #E2EBFA;\n",
              "      box-shadow: 0px 1px 2px rgba(60, 64, 67, 0.3), 0px 1px 3px 1px rgba(60, 64, 67, 0.15);\n",
              "      fill: #174EA6;\n",
              "    }\n",
              "\n",
              "    [theme=dark] .colab-df-convert {\n",
              "      background-color: #3B4455;\n",
              "      fill: #D2E3FC;\n",
              "    }\n",
              "\n",
              "    [theme=dark] .colab-df-convert:hover {\n",
              "      background-color: #434B5C;\n",
              "      box-shadow: 0px 1px 3px 1px rgba(0, 0, 0, 0.15);\n",
              "      filter: drop-shadow(0px 1px 2px rgba(0, 0, 0, 0.3));\n",
              "      fill: #FFFFFF;\n",
              "    }\n",
              "  </style>\n",
              "\n",
              "      <script>\n",
              "        const buttonEl =\n",
              "          document.querySelector('#df-202c9651-7737-470f-87fd-a9b9720a0e2c button.colab-df-convert');\n",
              "        buttonEl.style.display =\n",
              "          google.colab.kernel.accessAllowed ? 'block' : 'none';\n",
              "\n",
              "        async function convertToInteractive(key) {\n",
              "          const element = document.querySelector('#df-202c9651-7737-470f-87fd-a9b9720a0e2c');\n",
              "          const dataTable =\n",
              "            await google.colab.kernel.invokeFunction('convertToInteractive',\n",
              "                                                     [key], {});\n",
              "          if (!dataTable) return;\n",
              "\n",
              "          const docLinkHtml = 'Like what you see? Visit the ' +\n",
              "            '<a target=\"_blank\" href=https://colab.research.google.com/notebooks/data_table.ipynb>data table notebook</a>'\n",
              "            + ' to learn more about interactive tables.';\n",
              "          element.innerHTML = '';\n",
              "          dataTable['output_type'] = 'display_data';\n",
              "          await google.colab.output.renderOutput(dataTable, element);\n",
              "          const docLink = document.createElement('div');\n",
              "          docLink.innerHTML = docLinkHtml;\n",
              "          element.appendChild(docLink);\n",
              "        }\n",
              "      </script>\n",
              "    </div>\n",
              "  </div>\n",
              "  "
            ]
          },
          "metadata": {},
          "execution_count": 31
        }
      ]
    },
    {
      "cell_type": "code",
      "source": [
        "bert_df = df[[\"Lyrics\", \"Decade\", \"Year\", \"Title\", \"Artist(s)\"]]\n",
        "bert_df"
      ],
      "metadata": {
        "colab": {
          "base_uri": "https://localhost:8080/",
          "height": 424
        },
        "id": "oSS1WD3lNAtm",
        "outputId": "b8b18e39-d3f9-46c9-fd2b-dc684fac3bf4"
      },
      "id": "oSS1WD3lNAtm",
      "execution_count": 32,
      "outputs": [
        {
          "output_type": "execute_result",
          "data": {
            "text/plain": [
              "                                                 Lyrics Decade  Year  \\\n",
              "0     Cathy’s Clown Lyrics[Chorus] Don't want your l...  1960s  1960   \n",
              "1     Stuck on You Lyrics[Verse 1] You can shake an ...  1960s  1960   \n",
              "2     The Twist Lyrics[Chorus:] Come on baby let's d...  1960s  1960   \n",
              "3     El Paso Lyrics[Verse 1] Out in the West Texas ...  1960s  1960   \n",
              "4     Alley-Oop Lyrics[Intro] (Oop-oop, oop, oop-oop...  1960s  1960   \n",
              "...                                                 ...    ...   ...   \n",
              "3542  Single Saturday Night Lyrics[Verse 1] I was ou...  2020s  2021   \n",
              "3543  Things a Man Oughta Know Lyrics[Verse 1] I can...  2020s  2021   \n",
              "3544  Throat Baby (Go Baby) Lyrics[Intro] (What's ha...  2020s  2021   \n",
              "3545  Tombstone Lyrics[Intro] Damn, this motherfucke...  2020s  2021   \n",
              "3546  Todo De Ti Lyrics[Letra de \"Todo De Ti\"]  [Int...  2020s  2021   \n",
              "\n",
              "                           Title              Artist(s)  \n",
              "0                \"Cathy's Clown\"    The Everly Brothers  \n",
              "1                 \"Stuck on You\"          Elvis Presley  \n",
              "2                    \"The Twist\"         Chubby Checker  \n",
              "3                      \"El Paso\"          Marty Robbins  \n",
              "4                    \"Alley Oop\"  The Hollywood Argyles  \n",
              "...                          ...                    ...  \n",
              "3542     \"Single Saturday Night\"          Cole Swindell  \n",
              "3543  \"Things a Man Oughta Know\"          Lainey Wilson  \n",
              "3544     \"Throat Baby (Go Baby)\"               BRS Kash  \n",
              "3545                 \"Tombstone\"               Rod Wave  \n",
              "3546                \"Todo de Ti\"         Rauw Alejandro  \n",
              "\n",
              "[3547 rows x 5 columns]"
            ],
            "text/html": [
              "\n",
              "  <div id=\"df-d150f5a8-53d8-4756-8b7f-93f748992e2d\">\n",
              "    <div class=\"colab-df-container\">\n",
              "      <div>\n",
              "<style scoped>\n",
              "    .dataframe tbody tr th:only-of-type {\n",
              "        vertical-align: middle;\n",
              "    }\n",
              "\n",
              "    .dataframe tbody tr th {\n",
              "        vertical-align: top;\n",
              "    }\n",
              "\n",
              "    .dataframe thead th {\n",
              "        text-align: right;\n",
              "    }\n",
              "</style>\n",
              "<table border=\"1\" class=\"dataframe\">\n",
              "  <thead>\n",
              "    <tr style=\"text-align: right;\">\n",
              "      <th></th>\n",
              "      <th>Lyrics</th>\n",
              "      <th>Decade</th>\n",
              "      <th>Year</th>\n",
              "      <th>Title</th>\n",
              "      <th>Artist(s)</th>\n",
              "    </tr>\n",
              "  </thead>\n",
              "  <tbody>\n",
              "    <tr>\n",
              "      <th>0</th>\n",
              "      <td>Cathy’s Clown Lyrics[Chorus] Don't want your l...</td>\n",
              "      <td>1960s</td>\n",
              "      <td>1960</td>\n",
              "      <td>\"Cathy's Clown\"</td>\n",
              "      <td>The Everly Brothers</td>\n",
              "    </tr>\n",
              "    <tr>\n",
              "      <th>1</th>\n",
              "      <td>Stuck on You Lyrics[Verse 1] You can shake an ...</td>\n",
              "      <td>1960s</td>\n",
              "      <td>1960</td>\n",
              "      <td>\"Stuck on You\"</td>\n",
              "      <td>Elvis Presley</td>\n",
              "    </tr>\n",
              "    <tr>\n",
              "      <th>2</th>\n",
              "      <td>The Twist Lyrics[Chorus:] Come on baby let's d...</td>\n",
              "      <td>1960s</td>\n",
              "      <td>1960</td>\n",
              "      <td>\"The Twist\"</td>\n",
              "      <td>Chubby Checker</td>\n",
              "    </tr>\n",
              "    <tr>\n",
              "      <th>3</th>\n",
              "      <td>El Paso Lyrics[Verse 1] Out in the West Texas ...</td>\n",
              "      <td>1960s</td>\n",
              "      <td>1960</td>\n",
              "      <td>\"El Paso\"</td>\n",
              "      <td>Marty Robbins</td>\n",
              "    </tr>\n",
              "    <tr>\n",
              "      <th>4</th>\n",
              "      <td>Alley-Oop Lyrics[Intro] (Oop-oop, oop, oop-oop...</td>\n",
              "      <td>1960s</td>\n",
              "      <td>1960</td>\n",
              "      <td>\"Alley Oop\"</td>\n",
              "      <td>The Hollywood Argyles</td>\n",
              "    </tr>\n",
              "    <tr>\n",
              "      <th>...</th>\n",
              "      <td>...</td>\n",
              "      <td>...</td>\n",
              "      <td>...</td>\n",
              "      <td>...</td>\n",
              "      <td>...</td>\n",
              "    </tr>\n",
              "    <tr>\n",
              "      <th>3542</th>\n",
              "      <td>Single Saturday Night Lyrics[Verse 1] I was ou...</td>\n",
              "      <td>2020s</td>\n",
              "      <td>2021</td>\n",
              "      <td>\"Single Saturday Night\"</td>\n",
              "      <td>Cole Swindell</td>\n",
              "    </tr>\n",
              "    <tr>\n",
              "      <th>3543</th>\n",
              "      <td>Things a Man Oughta Know Lyrics[Verse 1] I can...</td>\n",
              "      <td>2020s</td>\n",
              "      <td>2021</td>\n",
              "      <td>\"Things a Man Oughta Know\"</td>\n",
              "      <td>Lainey Wilson</td>\n",
              "    </tr>\n",
              "    <tr>\n",
              "      <th>3544</th>\n",
              "      <td>Throat Baby (Go Baby) Lyrics[Intro] (What's ha...</td>\n",
              "      <td>2020s</td>\n",
              "      <td>2021</td>\n",
              "      <td>\"Throat Baby (Go Baby)\"</td>\n",
              "      <td>BRS Kash</td>\n",
              "    </tr>\n",
              "    <tr>\n",
              "      <th>3545</th>\n",
              "      <td>Tombstone Lyrics[Intro] Damn, this motherfucke...</td>\n",
              "      <td>2020s</td>\n",
              "      <td>2021</td>\n",
              "      <td>\"Tombstone\"</td>\n",
              "      <td>Rod Wave</td>\n",
              "    </tr>\n",
              "    <tr>\n",
              "      <th>3546</th>\n",
              "      <td>Todo De Ti Lyrics[Letra de \"Todo De Ti\"]  [Int...</td>\n",
              "      <td>2020s</td>\n",
              "      <td>2021</td>\n",
              "      <td>\"Todo de Ti\"</td>\n",
              "      <td>Rauw Alejandro</td>\n",
              "    </tr>\n",
              "  </tbody>\n",
              "</table>\n",
              "<p>3547 rows × 5 columns</p>\n",
              "</div>\n",
              "      <button class=\"colab-df-convert\" onclick=\"convertToInteractive('df-d150f5a8-53d8-4756-8b7f-93f748992e2d')\"\n",
              "              title=\"Convert this dataframe to an interactive table.\"\n",
              "              style=\"display:none;\">\n",
              "        \n",
              "  <svg xmlns=\"http://www.w3.org/2000/svg\" height=\"24px\"viewBox=\"0 0 24 24\"\n",
              "       width=\"24px\">\n",
              "    <path d=\"M0 0h24v24H0V0z\" fill=\"none\"/>\n",
              "    <path d=\"M18.56 5.44l.94 2.06.94-2.06 2.06-.94-2.06-.94-.94-2.06-.94 2.06-2.06.94zm-11 1L8.5 8.5l.94-2.06 2.06-.94-2.06-.94L8.5 2.5l-.94 2.06-2.06.94zm10 10l.94 2.06.94-2.06 2.06-.94-2.06-.94-.94-2.06-.94 2.06-2.06.94z\"/><path d=\"M17.41 7.96l-1.37-1.37c-.4-.4-.92-.59-1.43-.59-.52 0-1.04.2-1.43.59L10.3 9.45l-7.72 7.72c-.78.78-.78 2.05 0 2.83L4 21.41c.39.39.9.59 1.41.59.51 0 1.02-.2 1.41-.59l7.78-7.78 2.81-2.81c.8-.78.8-2.07 0-2.86zM5.41 20L4 18.59l7.72-7.72 1.47 1.35L5.41 20z\"/>\n",
              "  </svg>\n",
              "      </button>\n",
              "      \n",
              "  <style>\n",
              "    .colab-df-container {\n",
              "      display:flex;\n",
              "      flex-wrap:wrap;\n",
              "      gap: 12px;\n",
              "    }\n",
              "\n",
              "    .colab-df-convert {\n",
              "      background-color: #E8F0FE;\n",
              "      border: none;\n",
              "      border-radius: 50%;\n",
              "      cursor: pointer;\n",
              "      display: none;\n",
              "      fill: #1967D2;\n",
              "      height: 32px;\n",
              "      padding: 0 0 0 0;\n",
              "      width: 32px;\n",
              "    }\n",
              "\n",
              "    .colab-df-convert:hover {\n",
              "      background-color: #E2EBFA;\n",
              "      box-shadow: 0px 1px 2px rgba(60, 64, 67, 0.3), 0px 1px 3px 1px rgba(60, 64, 67, 0.15);\n",
              "      fill: #174EA6;\n",
              "    }\n",
              "\n",
              "    [theme=dark] .colab-df-convert {\n",
              "      background-color: #3B4455;\n",
              "      fill: #D2E3FC;\n",
              "    }\n",
              "\n",
              "    [theme=dark] .colab-df-convert:hover {\n",
              "      background-color: #434B5C;\n",
              "      box-shadow: 0px 1px 3px 1px rgba(0, 0, 0, 0.15);\n",
              "      filter: drop-shadow(0px 1px 2px rgba(0, 0, 0, 0.3));\n",
              "      fill: #FFFFFF;\n",
              "    }\n",
              "  </style>\n",
              "\n",
              "      <script>\n",
              "        const buttonEl =\n",
              "          document.querySelector('#df-d150f5a8-53d8-4756-8b7f-93f748992e2d button.colab-df-convert');\n",
              "        buttonEl.style.display =\n",
              "          google.colab.kernel.accessAllowed ? 'block' : 'none';\n",
              "\n",
              "        async function convertToInteractive(key) {\n",
              "          const element = document.querySelector('#df-d150f5a8-53d8-4756-8b7f-93f748992e2d');\n",
              "          const dataTable =\n",
              "            await google.colab.kernel.invokeFunction('convertToInteractive',\n",
              "                                                     [key], {});\n",
              "          if (!dataTable) return;\n",
              "\n",
              "          const docLinkHtml = 'Like what you see? Visit the ' +\n",
              "            '<a target=\"_blank\" href=https://colab.research.google.com/notebooks/data_table.ipynb>data table notebook</a>'\n",
              "            + ' to learn more about interactive tables.';\n",
              "          element.innerHTML = '';\n",
              "          dataTable['output_type'] = 'display_data';\n",
              "          await google.colab.output.renderOutput(dataTable, element);\n",
              "          const docLink = document.createElement('div');\n",
              "          docLink.innerHTML = docLinkHtml;\n",
              "          element.appendChild(docLink);\n",
              "        }\n",
              "      </script>\n",
              "    </div>\n",
              "  </div>\n",
              "  "
            ]
          },
          "metadata": {},
          "execution_count": 32
        }
      ]
    },
    {
      "cell_type": "code",
      "source": [
        "## Create Train/Val/Test Split (in 2 steps)\n",
        "train, rem = sklearn.model_selection.train_test_split(bert_df, train_size = 0.7, random_state=42)\n",
        "val, test = sklearn.model_selection.train_test_split(rem, train_size = 0.5, random_state = 43)\n",
        "\n",
        "print(\"Train Shape: \", train.shape)\n",
        "print(\"Val Shape:   \", val.shape)\n",
        "print(\"Test Shape:  \", test.shape)\n",
        "train.head(3)"
      ],
      "metadata": {
        "colab": {
          "base_uri": "https://localhost:8080/",
          "height": 196
        },
        "id": "3QIERGFaNArn",
        "outputId": "ac1c2f9f-5b29-4fc6-f89e-28fa4cba9482"
      },
      "id": "3QIERGFaNArn",
      "execution_count": 33,
      "outputs": [
        {
          "output_type": "stream",
          "name": "stdout",
          "text": [
            "Train Shape:  (2482, 5)\n",
            "Val Shape:    (532, 5)\n",
            "Test Shape:   (533, 5)\n"
          ]
        },
        {
          "output_type": "execute_result",
          "data": {
            "text/plain": [
              "                                                 Lyrics Decade  Year  \\\n",
              "944   Off the Wall Lyrics[Verse 1] When the world is...  1980s  1980   \n",
              "199   Bus Stop LyricsBus stop, wet day She's there, ...  1960s  1966   \n",
              "3351  Lucid Dreams Lyrics[Intro] Enviyon on the mix ...  2010s  2018   \n",
              "\n",
              "               Title        Artist(s)  \n",
              "944   \"Off the Wall\"  Michael Jackson  \n",
              "199       \"Bus Stop\"      The Hollies  \n",
              "3351  \"Lucid Dreams\"       Juice Wrld  "
            ],
            "text/html": [
              "\n",
              "  <div id=\"df-d2e9e872-384d-4293-a18b-0055e92031a8\">\n",
              "    <div class=\"colab-df-container\">\n",
              "      <div>\n",
              "<style scoped>\n",
              "    .dataframe tbody tr th:only-of-type {\n",
              "        vertical-align: middle;\n",
              "    }\n",
              "\n",
              "    .dataframe tbody tr th {\n",
              "        vertical-align: top;\n",
              "    }\n",
              "\n",
              "    .dataframe thead th {\n",
              "        text-align: right;\n",
              "    }\n",
              "</style>\n",
              "<table border=\"1\" class=\"dataframe\">\n",
              "  <thead>\n",
              "    <tr style=\"text-align: right;\">\n",
              "      <th></th>\n",
              "      <th>Lyrics</th>\n",
              "      <th>Decade</th>\n",
              "      <th>Year</th>\n",
              "      <th>Title</th>\n",
              "      <th>Artist(s)</th>\n",
              "    </tr>\n",
              "  </thead>\n",
              "  <tbody>\n",
              "    <tr>\n",
              "      <th>944</th>\n",
              "      <td>Off the Wall Lyrics[Verse 1] When the world is...</td>\n",
              "      <td>1980s</td>\n",
              "      <td>1980</td>\n",
              "      <td>\"Off the Wall\"</td>\n",
              "      <td>Michael Jackson</td>\n",
              "    </tr>\n",
              "    <tr>\n",
              "      <th>199</th>\n",
              "      <td>Bus Stop LyricsBus stop, wet day She's there, ...</td>\n",
              "      <td>1960s</td>\n",
              "      <td>1966</td>\n",
              "      <td>\"Bus Stop\"</td>\n",
              "      <td>The Hollies</td>\n",
              "    </tr>\n",
              "    <tr>\n",
              "      <th>3351</th>\n",
              "      <td>Lucid Dreams Lyrics[Intro] Enviyon on the mix ...</td>\n",
              "      <td>2010s</td>\n",
              "      <td>2018</td>\n",
              "      <td>\"Lucid Dreams\"</td>\n",
              "      <td>Juice Wrld</td>\n",
              "    </tr>\n",
              "  </tbody>\n",
              "</table>\n",
              "</div>\n",
              "      <button class=\"colab-df-convert\" onclick=\"convertToInteractive('df-d2e9e872-384d-4293-a18b-0055e92031a8')\"\n",
              "              title=\"Convert this dataframe to an interactive table.\"\n",
              "              style=\"display:none;\">\n",
              "        \n",
              "  <svg xmlns=\"http://www.w3.org/2000/svg\" height=\"24px\"viewBox=\"0 0 24 24\"\n",
              "       width=\"24px\">\n",
              "    <path d=\"M0 0h24v24H0V0z\" fill=\"none\"/>\n",
              "    <path d=\"M18.56 5.44l.94 2.06.94-2.06 2.06-.94-2.06-.94-.94-2.06-.94 2.06-2.06.94zm-11 1L8.5 8.5l.94-2.06 2.06-.94-2.06-.94L8.5 2.5l-.94 2.06-2.06.94zm10 10l.94 2.06.94-2.06 2.06-.94-2.06-.94-.94-2.06-.94 2.06-2.06.94z\"/><path d=\"M17.41 7.96l-1.37-1.37c-.4-.4-.92-.59-1.43-.59-.52 0-1.04.2-1.43.59L10.3 9.45l-7.72 7.72c-.78.78-.78 2.05 0 2.83L4 21.41c.39.39.9.59 1.41.59.51 0 1.02-.2 1.41-.59l7.78-7.78 2.81-2.81c.8-.78.8-2.07 0-2.86zM5.41 20L4 18.59l7.72-7.72 1.47 1.35L5.41 20z\"/>\n",
              "  </svg>\n",
              "      </button>\n",
              "      \n",
              "  <style>\n",
              "    .colab-df-container {\n",
              "      display:flex;\n",
              "      flex-wrap:wrap;\n",
              "      gap: 12px;\n",
              "    }\n",
              "\n",
              "    .colab-df-convert {\n",
              "      background-color: #E8F0FE;\n",
              "      border: none;\n",
              "      border-radius: 50%;\n",
              "      cursor: pointer;\n",
              "      display: none;\n",
              "      fill: #1967D2;\n",
              "      height: 32px;\n",
              "      padding: 0 0 0 0;\n",
              "      width: 32px;\n",
              "    }\n",
              "\n",
              "    .colab-df-convert:hover {\n",
              "      background-color: #E2EBFA;\n",
              "      box-shadow: 0px 1px 2px rgba(60, 64, 67, 0.3), 0px 1px 3px 1px rgba(60, 64, 67, 0.15);\n",
              "      fill: #174EA6;\n",
              "    }\n",
              "\n",
              "    [theme=dark] .colab-df-convert {\n",
              "      background-color: #3B4455;\n",
              "      fill: #D2E3FC;\n",
              "    }\n",
              "\n",
              "    [theme=dark] .colab-df-convert:hover {\n",
              "      background-color: #434B5C;\n",
              "      box-shadow: 0px 1px 3px 1px rgba(0, 0, 0, 0.15);\n",
              "      filter: drop-shadow(0px 1px 2px rgba(0, 0, 0, 0.3));\n",
              "      fill: #FFFFFF;\n",
              "    }\n",
              "  </style>\n",
              "\n",
              "      <script>\n",
              "        const buttonEl =\n",
              "          document.querySelector('#df-d2e9e872-384d-4293-a18b-0055e92031a8 button.colab-df-convert');\n",
              "        buttonEl.style.display =\n",
              "          google.colab.kernel.accessAllowed ? 'block' : 'none';\n",
              "\n",
              "        async function convertToInteractive(key) {\n",
              "          const element = document.querySelector('#df-d2e9e872-384d-4293-a18b-0055e92031a8');\n",
              "          const dataTable =\n",
              "            await google.colab.kernel.invokeFunction('convertToInteractive',\n",
              "                                                     [key], {});\n",
              "          if (!dataTable) return;\n",
              "\n",
              "          const docLinkHtml = 'Like what you see? Visit the ' +\n",
              "            '<a target=\"_blank\" href=https://colab.research.google.com/notebooks/data_table.ipynb>data table notebook</a>'\n",
              "            + ' to learn more about interactive tables.';\n",
              "          element.innerHTML = '';\n",
              "          dataTable['output_type'] = 'display_data';\n",
              "          await google.colab.output.renderOutput(dataTable, element);\n",
              "          const docLink = document.createElement('div');\n",
              "          docLink.innerHTML = docLinkHtml;\n",
              "          element.appendChild(docLink);\n",
              "        }\n",
              "      </script>\n",
              "    </div>\n",
              "  </div>\n",
              "  "
            ]
          },
          "metadata": {},
          "execution_count": 33
        }
      ]
    },
    {
      "cell_type": "markdown",
      "source": [
        "### 2. Preparing the model input with the BERT Tokenizer\n",
        "\n",
        "We use the 'bert-base-cased' from Huggingface as the underlying BERT model."
      ],
      "metadata": {
        "id": "ZlGOYLdeNnVa"
      },
      "id": "ZlGOYLdeNnVa"
    },
    {
      "cell_type": "code",
      "source": [
        "tokenizer = BertTokenizer.from_pretrained('bert-base-cased')\n",
        "config = BertConfig(hidden_dropout_prob = 0.25)\n",
        "bert_model = TFBertModel.from_pretrained('bert-base-cased', config)"
      ],
      "metadata": {
        "colab": {
          "base_uri": "https://localhost:8080/"
        },
        "id": "dwbiDZNKNApU",
        "outputId": "41a558fd-3e7a-4749-9057-a1a9ad890dc4"
      },
      "id": "dwbiDZNKNApU",
      "execution_count": 129,
      "outputs": [
        {
          "output_type": "stream",
          "name": "stderr",
          "text": [
            "Some layers from the model checkpoint at bert-base-cased were not used when initializing TFBertModel: ['mlm___cls', 'nsp___cls']\n",
            "- This IS expected if you are initializing TFBertModel from the checkpoint of a model trained on another task or with another architecture (e.g. initializing a BertForSequenceClassification model from a BertForPreTraining model).\n",
            "- This IS NOT expected if you are initializing TFBertModel from the checkpoint of a model that you expect to be exactly identical (initializing a BertForSequenceClassification model from a BertForSequenceClassification model).\n",
            "All the layers of TFBertModel were initialized from the model checkpoint at bert-base-cased.\n",
            "If your task is similar to the task the model of the checkpoint was trained on, you can already use TFBertModel for predictions without further training.\n"
          ]
        }
      ]
    },
    {
      "cell_type": "code",
      "source": [
        "train[\"Lyrics\"]"
      ],
      "metadata": {
        "colab": {
          "base_uri": "https://localhost:8080/"
        },
        "id": "yMA3eFaQOQJL",
        "outputId": "ee41b161-6d93-4dcb-a164-155192a46748"
      },
      "id": "yMA3eFaQOQJL",
      "execution_count": 130,
      "outputs": [
        {
          "output_type": "execute_result",
          "data": {
            "text/plain": [
              "944     Off the Wall Lyrics[Verse 1] When the world is...\n",
              "199     Bus Stop LyricsBus stop, wet day She's there, ...\n",
              "3351    Lucid Dreams Lyrics[Intro] Enviyon on the mix ...\n",
              "2276    He Can’t Love U Lyrics[Intro: Brandon] I ain't...\n",
              "801     With a Little Luck Lyrics[Verse 1] With a litt...\n",
              "                              ...                        \n",
              "1130    You Got Lucky Lyrics[Intro] One, two  [Verse 1...\n",
              "1294    Kiss Lyrics[Verse 1] You don't have to be beau...\n",
              "860     What a Fool Believes Lyrics[Verse 1] He came f...\n",
              "3507    Heat Waves Lyrics[Intro] (Last night, all I th...\n",
              "3174    Partition Lyrics[Part 1: \"Yoncé\"]  [Intro] Let...\n",
              "Name: Lyrics, Length: 2482, dtype: object"
            ]
          },
          "metadata": {},
          "execution_count": 130
        }
      ]
    },
    {
      "cell_type": "code",
      "source": [
        "## check: do we get the ouput we want? YES!\n",
        "# tokenizer([x for x in train[\"Lyrics\"]], \n",
        "#               max_length=max_length,\n",
        "#               truncation=True,\n",
        "#               padding='max_length', \n",
        "#               return_tensors='tf')"
      ],
      "metadata": {
        "id": "UufTeYJ_Oazk"
      },
      "id": "UufTeYJ_Oazk",
      "execution_count": 131,
      "outputs": []
    },
    {
      "cell_type": "code",
      "source": [
        "pd.get_dummies(train[\"Decade\"]) # to one-hot"
      ],
      "metadata": {
        "colab": {
          "base_uri": "https://localhost:8080/",
          "height": 424
        },
        "id": "GG30Mv1XxCa6",
        "outputId": "8292e347-5cd9-4929-fff8-0daf69cb3056"
      },
      "id": "GG30Mv1XxCa6",
      "execution_count": 132,
      "outputs": [
        {
          "output_type": "execute_result",
          "data": {
            "text/plain": [
              "      1960s  1970s  1980s  1990s  2000s  2010s  2020s\n",
              "944       0      0      1      0      0      0      0\n",
              "199       1      0      0      0      0      0      0\n",
              "3351      0      0      0      0      0      1      0\n",
              "2276      0      0      0      0      1      0      0\n",
              "801       0      1      0      0      0      0      0\n",
              "...     ...    ...    ...    ...    ...    ...    ...\n",
              "1130      0      0      1      0      0      0      0\n",
              "1294      0      0      1      0      0      0      0\n",
              "860       0      1      0      0      0      0      0\n",
              "3507      0      0      0      0      0      0      1\n",
              "3174      0      0      0      0      0      1      0\n",
              "\n",
              "[2482 rows x 7 columns]"
            ],
            "text/html": [
              "\n",
              "  <div id=\"df-c2fa23d7-4ecf-4645-a364-da725a1e2bad\">\n",
              "    <div class=\"colab-df-container\">\n",
              "      <div>\n",
              "<style scoped>\n",
              "    .dataframe tbody tr th:only-of-type {\n",
              "        vertical-align: middle;\n",
              "    }\n",
              "\n",
              "    .dataframe tbody tr th {\n",
              "        vertical-align: top;\n",
              "    }\n",
              "\n",
              "    .dataframe thead th {\n",
              "        text-align: right;\n",
              "    }\n",
              "</style>\n",
              "<table border=\"1\" class=\"dataframe\">\n",
              "  <thead>\n",
              "    <tr style=\"text-align: right;\">\n",
              "      <th></th>\n",
              "      <th>1960s</th>\n",
              "      <th>1970s</th>\n",
              "      <th>1980s</th>\n",
              "      <th>1990s</th>\n",
              "      <th>2000s</th>\n",
              "      <th>2010s</th>\n",
              "      <th>2020s</th>\n",
              "    </tr>\n",
              "  </thead>\n",
              "  <tbody>\n",
              "    <tr>\n",
              "      <th>944</th>\n",
              "      <td>0</td>\n",
              "      <td>0</td>\n",
              "      <td>1</td>\n",
              "      <td>0</td>\n",
              "      <td>0</td>\n",
              "      <td>0</td>\n",
              "      <td>0</td>\n",
              "    </tr>\n",
              "    <tr>\n",
              "      <th>199</th>\n",
              "      <td>1</td>\n",
              "      <td>0</td>\n",
              "      <td>0</td>\n",
              "      <td>0</td>\n",
              "      <td>0</td>\n",
              "      <td>0</td>\n",
              "      <td>0</td>\n",
              "    </tr>\n",
              "    <tr>\n",
              "      <th>3351</th>\n",
              "      <td>0</td>\n",
              "      <td>0</td>\n",
              "      <td>0</td>\n",
              "      <td>0</td>\n",
              "      <td>0</td>\n",
              "      <td>1</td>\n",
              "      <td>0</td>\n",
              "    </tr>\n",
              "    <tr>\n",
              "      <th>2276</th>\n",
              "      <td>0</td>\n",
              "      <td>0</td>\n",
              "      <td>0</td>\n",
              "      <td>0</td>\n",
              "      <td>1</td>\n",
              "      <td>0</td>\n",
              "      <td>0</td>\n",
              "    </tr>\n",
              "    <tr>\n",
              "      <th>801</th>\n",
              "      <td>0</td>\n",
              "      <td>1</td>\n",
              "      <td>0</td>\n",
              "      <td>0</td>\n",
              "      <td>0</td>\n",
              "      <td>0</td>\n",
              "      <td>0</td>\n",
              "    </tr>\n",
              "    <tr>\n",
              "      <th>...</th>\n",
              "      <td>...</td>\n",
              "      <td>...</td>\n",
              "      <td>...</td>\n",
              "      <td>...</td>\n",
              "      <td>...</td>\n",
              "      <td>...</td>\n",
              "      <td>...</td>\n",
              "    </tr>\n",
              "    <tr>\n",
              "      <th>1130</th>\n",
              "      <td>0</td>\n",
              "      <td>0</td>\n",
              "      <td>1</td>\n",
              "      <td>0</td>\n",
              "      <td>0</td>\n",
              "      <td>0</td>\n",
              "      <td>0</td>\n",
              "    </tr>\n",
              "    <tr>\n",
              "      <th>1294</th>\n",
              "      <td>0</td>\n",
              "      <td>0</td>\n",
              "      <td>1</td>\n",
              "      <td>0</td>\n",
              "      <td>0</td>\n",
              "      <td>0</td>\n",
              "      <td>0</td>\n",
              "    </tr>\n",
              "    <tr>\n",
              "      <th>860</th>\n",
              "      <td>0</td>\n",
              "      <td>1</td>\n",
              "      <td>0</td>\n",
              "      <td>0</td>\n",
              "      <td>0</td>\n",
              "      <td>0</td>\n",
              "      <td>0</td>\n",
              "    </tr>\n",
              "    <tr>\n",
              "      <th>3507</th>\n",
              "      <td>0</td>\n",
              "      <td>0</td>\n",
              "      <td>0</td>\n",
              "      <td>0</td>\n",
              "      <td>0</td>\n",
              "      <td>0</td>\n",
              "      <td>1</td>\n",
              "    </tr>\n",
              "    <tr>\n",
              "      <th>3174</th>\n",
              "      <td>0</td>\n",
              "      <td>0</td>\n",
              "      <td>0</td>\n",
              "      <td>0</td>\n",
              "      <td>0</td>\n",
              "      <td>1</td>\n",
              "      <td>0</td>\n",
              "    </tr>\n",
              "  </tbody>\n",
              "</table>\n",
              "<p>2482 rows × 7 columns</p>\n",
              "</div>\n",
              "      <button class=\"colab-df-convert\" onclick=\"convertToInteractive('df-c2fa23d7-4ecf-4645-a364-da725a1e2bad')\"\n",
              "              title=\"Convert this dataframe to an interactive table.\"\n",
              "              style=\"display:none;\">\n",
              "        \n",
              "  <svg xmlns=\"http://www.w3.org/2000/svg\" height=\"24px\"viewBox=\"0 0 24 24\"\n",
              "       width=\"24px\">\n",
              "    <path d=\"M0 0h24v24H0V0z\" fill=\"none\"/>\n",
              "    <path d=\"M18.56 5.44l.94 2.06.94-2.06 2.06-.94-2.06-.94-.94-2.06-.94 2.06-2.06.94zm-11 1L8.5 8.5l.94-2.06 2.06-.94-2.06-.94L8.5 2.5l-.94 2.06-2.06.94zm10 10l.94 2.06.94-2.06 2.06-.94-2.06-.94-.94-2.06-.94 2.06-2.06.94z\"/><path d=\"M17.41 7.96l-1.37-1.37c-.4-.4-.92-.59-1.43-.59-.52 0-1.04.2-1.43.59L10.3 9.45l-7.72 7.72c-.78.78-.78 2.05 0 2.83L4 21.41c.39.39.9.59 1.41.59.51 0 1.02-.2 1.41-.59l7.78-7.78 2.81-2.81c.8-.78.8-2.07 0-2.86zM5.41 20L4 18.59l7.72-7.72 1.47 1.35L5.41 20z\"/>\n",
              "  </svg>\n",
              "      </button>\n",
              "      \n",
              "  <style>\n",
              "    .colab-df-container {\n",
              "      display:flex;\n",
              "      flex-wrap:wrap;\n",
              "      gap: 12px;\n",
              "    }\n",
              "\n",
              "    .colab-df-convert {\n",
              "      background-color: #E8F0FE;\n",
              "      border: none;\n",
              "      border-radius: 50%;\n",
              "      cursor: pointer;\n",
              "      display: none;\n",
              "      fill: #1967D2;\n",
              "      height: 32px;\n",
              "      padding: 0 0 0 0;\n",
              "      width: 32px;\n",
              "    }\n",
              "\n",
              "    .colab-df-convert:hover {\n",
              "      background-color: #E2EBFA;\n",
              "      box-shadow: 0px 1px 2px rgba(60, 64, 67, 0.3), 0px 1px 3px 1px rgba(60, 64, 67, 0.15);\n",
              "      fill: #174EA6;\n",
              "    }\n",
              "\n",
              "    [theme=dark] .colab-df-convert {\n",
              "      background-color: #3B4455;\n",
              "      fill: #D2E3FC;\n",
              "    }\n",
              "\n",
              "    [theme=dark] .colab-df-convert:hover {\n",
              "      background-color: #434B5C;\n",
              "      box-shadow: 0px 1px 3px 1px rgba(0, 0, 0, 0.15);\n",
              "      filter: drop-shadow(0px 1px 2px rgba(0, 0, 0, 0.3));\n",
              "      fill: #FFFFFF;\n",
              "    }\n",
              "  </style>\n",
              "\n",
              "      <script>\n",
              "        const buttonEl =\n",
              "          document.querySelector('#df-c2fa23d7-4ecf-4645-a364-da725a1e2bad button.colab-df-convert');\n",
              "        buttonEl.style.display =\n",
              "          google.colab.kernel.accessAllowed ? 'block' : 'none';\n",
              "\n",
              "        async function convertToInteractive(key) {\n",
              "          const element = document.querySelector('#df-c2fa23d7-4ecf-4645-a364-da725a1e2bad');\n",
              "          const dataTable =\n",
              "            await google.colab.kernel.invokeFunction('convertToInteractive',\n",
              "                                                     [key], {});\n",
              "          if (!dataTable) return;\n",
              "\n",
              "          const docLinkHtml = 'Like what you see? Visit the ' +\n",
              "            '<a target=\"_blank\" href=https://colab.research.google.com/notebooks/data_table.ipynb>data table notebook</a>'\n",
              "            + ' to learn more about interactive tables.';\n",
              "          element.innerHTML = '';\n",
              "          dataTable['output_type'] = 'display_data';\n",
              "          await google.colab.output.renderOutput(dataTable, element);\n",
              "          const docLink = document.createElement('div');\n",
              "          docLink.innerHTML = docLinkHtml;\n",
              "          element.appendChild(docLink);\n",
              "        }\n",
              "      </script>\n",
              "    </div>\n",
              "  </div>\n",
              "  "
            ]
          },
          "metadata": {},
          "execution_count": 132
        }
      ]
    },
    {
      "cell_type": "code",
      "source": [
        "max_length = 512\n",
        "\n",
        "x_train = tokenizer([x for x in train[\"Lyrics\"]], \n",
        "              max_length=max_length,\n",
        "              truncation=True,\n",
        "              padding='max_length', \n",
        "              return_tensors='tf')\n",
        "y_train = pd.get_dummies(train[\"Decade\"])\n",
        "meta_train = train[[\"Year\", \"Title\", \"Artist(s)\"]]\n",
        "\n",
        "x_val = tokenizer([x for x in val[\"Lyrics\"]], \n",
        "              max_length=max_length,\n",
        "              truncation=True,\n",
        "              padding='max_length', \n",
        "              return_tensors='tf')\n",
        "y_val = pd.get_dummies(val[\"Decade\"])\n",
        "meta_val = val[[\"Year\", \"Title\", \"Artist(s)\"]]\n",
        "\n",
        "\n",
        "x_test = tokenizer([x for x in test[\"Lyrics\"]], \n",
        "              max_length=max_length,\n",
        "              truncation=True,\n",
        "              padding='max_length', \n",
        "              return_tensors='tf')\n",
        "y_test = pd.get_dummies(test[\"Decade\"])\n",
        "meta_test = test[[\"Year\", \"Title\", \"Artist(s)\"]]\n",
        "\n",
        "\n"
      ],
      "metadata": {
        "id": "dZXkUKTnNAmj"
      },
      "id": "dZXkUKTnNAmj",
      "execution_count": 133,
      "outputs": []
    },
    {
      "cell_type": "code",
      "source": [
        "meta_train.head(3)"
      ],
      "metadata": {
        "colab": {
          "base_uri": "https://localhost:8080/",
          "height": 143
        },
        "id": "AbEGWvHu5Gqb",
        "outputId": "c568d56a-4afd-485e-88bb-528d977b87a5"
      },
      "id": "AbEGWvHu5Gqb",
      "execution_count": 134,
      "outputs": [
        {
          "output_type": "execute_result",
          "data": {
            "text/plain": [
              "      Year           Title        Artist(s)\n",
              "944   1980  \"Off the Wall\"  Michael Jackson\n",
              "199   1966      \"Bus Stop\"      The Hollies\n",
              "3351  2018  \"Lucid Dreams\"       Juice Wrld"
            ],
            "text/html": [
              "\n",
              "  <div id=\"df-e3a24cd3-b455-4f6c-a4eb-023cf5c30973\">\n",
              "    <div class=\"colab-df-container\">\n",
              "      <div>\n",
              "<style scoped>\n",
              "    .dataframe tbody tr th:only-of-type {\n",
              "        vertical-align: middle;\n",
              "    }\n",
              "\n",
              "    .dataframe tbody tr th {\n",
              "        vertical-align: top;\n",
              "    }\n",
              "\n",
              "    .dataframe thead th {\n",
              "        text-align: right;\n",
              "    }\n",
              "</style>\n",
              "<table border=\"1\" class=\"dataframe\">\n",
              "  <thead>\n",
              "    <tr style=\"text-align: right;\">\n",
              "      <th></th>\n",
              "      <th>Year</th>\n",
              "      <th>Title</th>\n",
              "      <th>Artist(s)</th>\n",
              "    </tr>\n",
              "  </thead>\n",
              "  <tbody>\n",
              "    <tr>\n",
              "      <th>944</th>\n",
              "      <td>1980</td>\n",
              "      <td>\"Off the Wall\"</td>\n",
              "      <td>Michael Jackson</td>\n",
              "    </tr>\n",
              "    <tr>\n",
              "      <th>199</th>\n",
              "      <td>1966</td>\n",
              "      <td>\"Bus Stop\"</td>\n",
              "      <td>The Hollies</td>\n",
              "    </tr>\n",
              "    <tr>\n",
              "      <th>3351</th>\n",
              "      <td>2018</td>\n",
              "      <td>\"Lucid Dreams\"</td>\n",
              "      <td>Juice Wrld</td>\n",
              "    </tr>\n",
              "  </tbody>\n",
              "</table>\n",
              "</div>\n",
              "      <button class=\"colab-df-convert\" onclick=\"convertToInteractive('df-e3a24cd3-b455-4f6c-a4eb-023cf5c30973')\"\n",
              "              title=\"Convert this dataframe to an interactive table.\"\n",
              "              style=\"display:none;\">\n",
              "        \n",
              "  <svg xmlns=\"http://www.w3.org/2000/svg\" height=\"24px\"viewBox=\"0 0 24 24\"\n",
              "       width=\"24px\">\n",
              "    <path d=\"M0 0h24v24H0V0z\" fill=\"none\"/>\n",
              "    <path d=\"M18.56 5.44l.94 2.06.94-2.06 2.06-.94-2.06-.94-.94-2.06-.94 2.06-2.06.94zm-11 1L8.5 8.5l.94-2.06 2.06-.94-2.06-.94L8.5 2.5l-.94 2.06-2.06.94zm10 10l.94 2.06.94-2.06 2.06-.94-2.06-.94-.94-2.06-.94 2.06-2.06.94z\"/><path d=\"M17.41 7.96l-1.37-1.37c-.4-.4-.92-.59-1.43-.59-.52 0-1.04.2-1.43.59L10.3 9.45l-7.72 7.72c-.78.78-.78 2.05 0 2.83L4 21.41c.39.39.9.59 1.41.59.51 0 1.02-.2 1.41-.59l7.78-7.78 2.81-2.81c.8-.78.8-2.07 0-2.86zM5.41 20L4 18.59l7.72-7.72 1.47 1.35L5.41 20z\"/>\n",
              "  </svg>\n",
              "      </button>\n",
              "      \n",
              "  <style>\n",
              "    .colab-df-container {\n",
              "      display:flex;\n",
              "      flex-wrap:wrap;\n",
              "      gap: 12px;\n",
              "    }\n",
              "\n",
              "    .colab-df-convert {\n",
              "      background-color: #E8F0FE;\n",
              "      border: none;\n",
              "      border-radius: 50%;\n",
              "      cursor: pointer;\n",
              "      display: none;\n",
              "      fill: #1967D2;\n",
              "      height: 32px;\n",
              "      padding: 0 0 0 0;\n",
              "      width: 32px;\n",
              "    }\n",
              "\n",
              "    .colab-df-convert:hover {\n",
              "      background-color: #E2EBFA;\n",
              "      box-shadow: 0px 1px 2px rgba(60, 64, 67, 0.3), 0px 1px 3px 1px rgba(60, 64, 67, 0.15);\n",
              "      fill: #174EA6;\n",
              "    }\n",
              "\n",
              "    [theme=dark] .colab-df-convert {\n",
              "      background-color: #3B4455;\n",
              "      fill: #D2E3FC;\n",
              "    }\n",
              "\n",
              "    [theme=dark] .colab-df-convert:hover {\n",
              "      background-color: #434B5C;\n",
              "      box-shadow: 0px 1px 3px 1px rgba(0, 0, 0, 0.15);\n",
              "      filter: drop-shadow(0px 1px 2px rgba(0, 0, 0, 0.3));\n",
              "      fill: #FFFFFF;\n",
              "    }\n",
              "  </style>\n",
              "\n",
              "      <script>\n",
              "        const buttonEl =\n",
              "          document.querySelector('#df-e3a24cd3-b455-4f6c-a4eb-023cf5c30973 button.colab-df-convert');\n",
              "        buttonEl.style.display =\n",
              "          google.colab.kernel.accessAllowed ? 'block' : 'none';\n",
              "\n",
              "        async function convertToInteractive(key) {\n",
              "          const element = document.querySelector('#df-e3a24cd3-b455-4f6c-a4eb-023cf5c30973');\n",
              "          const dataTable =\n",
              "            await google.colab.kernel.invokeFunction('convertToInteractive',\n",
              "                                                     [key], {});\n",
              "          if (!dataTable) return;\n",
              "\n",
              "          const docLinkHtml = 'Like what you see? Visit the ' +\n",
              "            '<a target=\"_blank\" href=https://colab.research.google.com/notebooks/data_table.ipynb>data table notebook</a>'\n",
              "            + ' to learn more about interactive tables.';\n",
              "          element.innerHTML = '';\n",
              "          dataTable['output_type'] = 'display_data';\n",
              "          await google.colab.output.renderOutput(dataTable, element);\n",
              "          const docLink = document.createElement('div');\n",
              "          docLink.innerHTML = docLinkHtml;\n",
              "          element.appendChild(docLink);\n",
              "        }\n",
              "      </script>\n",
              "    </div>\n",
              "  </div>\n",
              "  "
            ]
          },
          "metadata": {},
          "execution_count": 134
        }
      ]
    },
    {
      "cell_type": "code",
      "source": [
        "\n",
        "y_train.shape"
      ],
      "metadata": {
        "colab": {
          "base_uri": "https://localhost:8080/"
        },
        "id": "2UkSUl7JZDmb",
        "outputId": "73a0fa0c-de8c-4f51-b263-3d21f0dd7fdb"
      },
      "id": "2UkSUl7JZDmb",
      "execution_count": 135,
      "outputs": [
        {
          "output_type": "execute_result",
          "data": {
            "text/plain": [
              "(2482, 7)"
            ]
          },
          "metadata": {},
          "execution_count": 135
        }
      ]
    },
    {
      "cell_type": "code",
      "source": [
        "x_train"
      ],
      "metadata": {
        "colab": {
          "base_uri": "https://localhost:8080/"
        },
        "id": "G6O2Sd1WNAhB",
        "outputId": "adb27609-bebd-4a64-a65d-380f367eef6a"
      },
      "id": "G6O2Sd1WNAhB",
      "execution_count": 136,
      "outputs": [
        {
          "output_type": "execute_result",
          "data": {
            "text/plain": [
              "{'input_ids': <tf.Tensor: shape=(2482, 512), dtype=int32, numpy=\n",
              "array([[  101,  8060,  1103, ...,  2551,  1106,   102],\n",
              "       [  101,  8947,  6682, ...,     0,     0,     0],\n",
              "       [  101, 13174,  2386, ...,  1267,  1240,   102],\n",
              "       ...,\n",
              "       [  101,  1327,   170, ...,     0,     0,     0],\n",
              "       [  101,  9653, 13531, ...,  8552,  1179,   102],\n",
              "       [  101,  4539,  8934, ...,  9562,   112,   102]], dtype=int32)>, 'token_type_ids': <tf.Tensor: shape=(2482, 512), dtype=int32, numpy=\n",
              "array([[0, 0, 0, ..., 0, 0, 0],\n",
              "       [0, 0, 0, ..., 0, 0, 0],\n",
              "       [0, 0, 0, ..., 0, 0, 0],\n",
              "       ...,\n",
              "       [0, 0, 0, ..., 0, 0, 0],\n",
              "       [0, 0, 0, ..., 0, 0, 0],\n",
              "       [0, 0, 0, ..., 0, 0, 0]], dtype=int32)>, 'attention_mask': <tf.Tensor: shape=(2482, 512), dtype=int32, numpy=\n",
              "array([[1, 1, 1, ..., 1, 1, 1],\n",
              "       [1, 1, 1, ..., 0, 0, 0],\n",
              "       [1, 1, 1, ..., 1, 1, 1],\n",
              "       ...,\n",
              "       [1, 1, 1, ..., 0, 0, 0],\n",
              "       [1, 1, 1, ..., 1, 1, 1],\n",
              "       [1, 1, 1, ..., 1, 1, 1]], dtype=int32)>}"
            ]
          },
          "metadata": {},
          "execution_count": 136
        }
      ]
    },
    {
      "cell_type": "code",
      "source": [
        "x_train.keys()"
      ],
      "metadata": {
        "colab": {
          "base_uri": "https://localhost:8080/"
        },
        "id": "FotAQ-7jPN5x",
        "outputId": "db7ef9c4-b8ff-452d-8815-d0f9aed9679c"
      },
      "id": "FotAQ-7jPN5x",
      "execution_count": 137,
      "outputs": [
        {
          "output_type": "execute_result",
          "data": {
            "text/plain": [
              "dict_keys(['input_ids', 'token_type_ids', 'attention_mask'])"
            ]
          },
          "metadata": {},
          "execution_count": 137
        }
      ]
    },
    {
      "cell_type": "markdown",
      "source": [
        "input_ids are the ones we really care about\n",
        "\n",
        "### 3. BERT\n",
        "\n"
      ],
      "metadata": {
        "id": "5OkzLDZTPHtY"
      },
      "id": "5OkzLDZTPHtY"
    },
    {
      "cell_type": "code",
      "source": [
        ""
      ],
      "metadata": {
        "id": "G4N7cLx7RCpz"
      },
      "id": "G4N7cLx7RCpz",
      "execution_count": 137,
      "outputs": []
    },
    {
      "cell_type": "code",
      "source": [
        ""
      ],
      "metadata": {
        "id": "wLsW-U8DRCbM"
      },
      "id": "wLsW-U8DRCbM",
      "execution_count": 137,
      "outputs": []
    },
    {
      "cell_type": "markdown",
      "metadata": {
        "id": "m6rDhb0es9cs"
      },
      "source": [
        "**Questions:**\n",
        "* What are the interpretations of the 3 outputs?\n",
        "* Are the respective dimensions as expected?\n",
        "\n",
        "### 4. Building our Classification Model (from scratch)\n",
        "\n",
        "Let's build our classification model from scratch and run a few configurations.\n",
        "\n",
        "In particular, we will consider:\n",
        "\n",
        "* Optimizer choices\n",
        "* number of bert layers to be re-trained\n",
        "* effects of freezing and unfreezing\n"
      ],
      "id": "m6rDhb0es9cs"
    },
    {
      "cell_type": "code",
      "source": [
        ""
      ],
      "metadata": {
        "id": "mP5EC9_5TR5j"
      },
      "id": "mP5EC9_5TR5j",
      "execution_count": 115,
      "outputs": []
    },
    {
      "cell_type": "code",
      "source": [
        ""
      ],
      "metadata": {
        "id": "kwYbWDXaZLwU"
      },
      "id": "kwYbWDXaZLwU",
      "execution_count": 45,
      "outputs": []
    },
    {
      "cell_type": "markdown",
      "source": [
        "### 5. Build Classification Model (for real)"
      ],
      "metadata": {
        "id": "yxwkOXkNZy_X"
      },
      "id": "yxwkOXkNZy_X"
    },
    {
      "cell_type": "code",
      "execution_count": 138,
      "metadata": {
        "id": "a2OXyeJys9cs"
      },
      "outputs": [],
      "source": [
        "def create_classification_model(hidden_size = 200, \n",
        "                                train_layers = -1, \n",
        "                                optimizer=tf.keras.optimizers.Adam()):\n",
        "    \"\"\"\n",
        "    Build a simple classification model with BERT. Let's keep it simple and don't add dropout, layer norms, etc.\n",
        "    \"\"\"\n",
        "\n",
        "    input_ids = tf.keras.layers.Input(shape=(max_length,), dtype=tf.int32, name='input_ids_layer')\n",
        "    token_type_ids = tf.keras.layers.Input(shape=(max_length,), dtype=tf.int32, name='token_type_ids_layer')\n",
        "    attention_mask = tf.keras.layers.Input(shape=(max_length,), dtype=tf.int32, name='attention_mask_layer')\n",
        "\n",
        "    bert_inputs = {'input_ids': input_ids,\n",
        "                  'token_type_ids': token_type_ids,\n",
        "                  'attention_mask': attention_mask}\n",
        "\n",
        "\n",
        "    #restrict training to the train_layers outer transformer layers\n",
        "    if not train_layers == -1:\n",
        "\n",
        "            retrain_layers = []\n",
        "\n",
        "            for retrain_layer_number in range(train_layers):\n",
        "\n",
        "                layer_code = '_' + str(11 - retrain_layer_number)\n",
        "                retrain_layers.append(layer_code)\n",
        "\n",
        "            for w in bert_model.weights:\n",
        "                if not any([x in w.name for x in retrain_layers]):\n",
        "                    w._trainable = False\n",
        "\n",
        "\n",
        "    bert_out = bert_model(bert_inputs)\n",
        "\n",
        "\n",
        "    classification_token = tf.keras.layers.Lambda(lambda x: x[:,0,:], name='get_first_vector')(bert_out[0])\n",
        "\n",
        "\n",
        "    #hidden = tf.keras.layers.Dense(hidden_size, name='hidden_layer')(classification_token)\n",
        "\n",
        "    classification = tf.keras.layers.Dense(7, activation='softmax',name='classification_layer')(classification_token)\n",
        "\n",
        "    classification_model = tf.keras.Model(inputs=[input_ids, token_type_ids, attention_mask], \n",
        "                                          outputs=[classification])\n",
        "    \n",
        "    classification_model.compile(optimizer=optimizer,\n",
        "                            loss=tf.keras.losses.CategoricalCrossentropy(from_logits=False), #catgorical cross entropy for multi class classifcation\n",
        "                            metrics='accuracy')\n",
        "\n",
        "\n",
        "    return classification_model"
      ],
      "id": "a2OXyeJys9cs"
    },
    {
      "cell_type": "markdown",
      "metadata": {
        "id": "qHlXTxdBs9ct"
      },
      "source": [
        "### 5. Experimentation\n",
        "\n",
        "Let us compare a few configurations:\n",
        "\n",
        "* 'default': Adam Optimizer with default parameters (lr=0.001), all BERT layers fine-tuned \n",
        "* 'smaller learning rate': Adam Optimizer with lr=0.00005 parameters, all BERT layers fine-tuned \n",
        "* 'frozen': Adam Optimizer with default parameters, all BERT layers frozen\n",
        "\n",
        "#### 5.1 Default -- doesn't learn\n"
      ],
      "id": "qHlXTxdBs9ct"
    },
    {
      "cell_type": "code",
      "execution_count": 139,
      "metadata": {
        "id": "WnVpnu2zs9ct"
      },
      "outputs": [],
      "source": [
        "#classification_model = create_classification_model()     "
      ],
      "id": "WnVpnu2zs9ct"
    },
    {
      "cell_type": "code",
      "execution_count": 140,
      "metadata": {
        "id": "vx3F1r6ps9ct"
      },
      "outputs": [],
      "source": [
        "# classification_model.fit([x_train.input_ids, x_train.token_type_ids, x_train.attention_mask],\n",
        "#                          y_train,\n",
        "#                          validation_data=([x_val.input_ids, x_val.token_type_ids, x_val.attention_mask],\n",
        "#                          y_val),\n",
        "#                         epochs=3,\n",
        "#                         batch_size=8)\n",
        "\n",
        "#classification_model([x.input_ids, x.token_type_ids, x.attention_mask])"
      ],
      "id": "vx3F1r6ps9ct"
    },
    {
      "cell_type": "code",
      "execution_count": 141,
      "metadata": {
        "id": "sDz-HI8Os9ct"
      },
      "outputs": [],
      "source": [
        "# classification_model.predict([x_train.input_ids, x_train.token_type_ids, x_train.attention_mask], \n",
        "#                              batch_size=8, \n",
        "#                              steps=2)"
      ],
      "id": "sDz-HI8Os9ct"
    },
    {
      "cell_type": "markdown",
      "metadata": {
        "id": "e2REtG2Rs9ct"
      },
      "source": [
        "What is this? All essentially the same prediction? And basically not better than always predicting the majority class for each example? It may seem like \"BERT is no good for this task\"?!\n",
        "\n",
        "Careful, not so! There are a number of changes one can consider:\n",
        "\n",
        "* Change the optimizer configuration\n",
        "* Freeze some BERT layers - maybe for the entire training cycle or for thye first few epochs. \n",
        "* Add more data\n",
        "\n",
        "\n",
        "#### 5.2 Lower Learning Rate\n"
      ],
      "id": "e2REtG2Rs9ct"
    },
    {
      "cell_type": "code",
      "execution_count": 143,
      "metadata": {
        "id": "YBHxYVgDs9ct",
        "outputId": "95e3f3ac-18f6-46a4-b2eb-2fbbff7a0e6e",
        "colab": {
          "base_uri": "https://localhost:8080/"
        }
      },
      "outputs": [
        {
          "output_type": "stream",
          "name": "stderr",
          "text": [
            "Some layers from the model checkpoint at bert-base-cased were not used when initializing TFBertModel: ['mlm___cls', 'nsp___cls']\n",
            "- This IS expected if you are initializing TFBertModel from the checkpoint of a model trained on another task or with another architecture (e.g. initializing a BertForSequenceClassification model from a BertForPreTraining model).\n",
            "- This IS NOT expected if you are initializing TFBertModel from the checkpoint of a model that you expect to be exactly identical (initializing a BertForSequenceClassification model from a BertForSequenceClassification model).\n",
            "All the layers of TFBertModel were initialized from the model checkpoint at bert-base-cased.\n",
            "If your task is similar to the task the model of the checkpoint was trained on, you can already use TFBertModel for predictions without further training.\n"
          ]
        },
        {
          "output_type": "stream",
          "name": "stdout",
          "text": [
            "Epoch 1/5\n",
            "414/414 [==============================] - 352s 816ms/step - loss: 1.7597 - accuracy: 0.2772 - val_loss: 1.5250 - val_accuracy: 0.3045\n",
            "Epoch 2/5\n",
            "414/414 [==============================] - 345s 834ms/step - loss: 1.3987 - accuracy: 0.4106 - val_loss: 1.6639 - val_accuracy: 0.3120\n",
            "Epoch 3/5\n",
            "414/414 [==============================] - 347s 838ms/step - loss: 0.9909 - accuracy: 0.6052 - val_loss: 1.6838 - val_accuracy: 0.4342\n",
            "Epoch 4/5\n",
            "414/414 [==============================] - 347s 837ms/step - loss: 0.6225 - accuracy: 0.7611 - val_loss: 1.7278 - val_accuracy: 0.4568\n",
            "Epoch 5/5\n",
            "414/414 [==============================] - 346s 837ms/step - loss: 0.3357 - accuracy: 0.8775 - val_loss: 1.9890 - val_accuracy: 0.4605\n"
          ]
        },
        {
          "output_type": "execute_result",
          "data": {
            "text/plain": [
              "<keras.callbacks.History at 0x7fa1cf02d210>"
            ]
          },
          "metadata": {},
          "execution_count": 143
        }
      ],
      "source": [
        "try:\n",
        "    del classification_model\n",
        "except:\n",
        "    pass\n",
        "\n",
        "try:\n",
        "    del bert_model\n",
        "except:\n",
        "    pass\n",
        "\n",
        "tf.keras.backend.clear_session()\n",
        "bert_model = TFBertModel.from_pretrained('bert-base-cased', config)\n",
        "\n",
        "classification_model = create_classification_model(optimizer=tf.keras.optimizers.Adam(0.00005))\n",
        "\n",
        "classification_model.fit([x_train.input_ids, x_train.token_type_ids, x_train.attention_mask],\n",
        "                         y_train,\n",
        "                         validation_data=([x_val.input_ids, x_val.token_type_ids, x_val.attention_mask],\n",
        "                         y_val),\n",
        "                        epochs=5,\n",
        "                        batch_size=6)\n",
        "\n",
        "## Commented out to run below after i interupt this training\n",
        "# classification_model.predict([x_train.input_ids, x_train.token_type_ids, x_train.attention_mask], \n",
        "#                              batch_size=8, \n",
        "#                              steps=2)"
      ],
      "id": "YBHxYVgDs9ct"
    },
    {
      "cell_type": "markdown",
      "source": [
        "### Results\n",
        "\n",
        "[see this google sheet](https://docs.google.com/spreadsheets/d/1DFTXUfE2SE4XCt-m4__YyI2BEb5miCl5WsLaXUOVExQ/edit?usp=sharing)"
      ],
      "metadata": {
        "id": "REZ2F7rIQWnc"
      },
      "id": "REZ2F7rIQWnc"
    },
    {
      "cell_type": "code",
      "source": [
        "meta_train[:16]"
      ],
      "metadata": {
        "colab": {
          "base_uri": "https://localhost:8080/",
          "height": 551
        },
        "id": "Wywq94MECVJb",
        "outputId": "06a32980-00b3-4db0-bee8-1b152f3fa073"
      },
      "id": "Wywq94MECVJb",
      "execution_count": 144,
      "outputs": [
        {
          "output_type": "execute_result",
          "data": {
            "text/plain": [
              "      Year                      Title        Artist(s)\n",
              "944   1980             \"Off the Wall\"  Michael Jackson\n",
              "199   1966                 \"Bus Stop\"      The Hollies\n",
              "3351  2018             \"Lucid Dreams\"       Juice Wrld\n",
              "2276  2000          \"He Can't Love U\"      Jagged Edge\n",
              "801   1978       \"With a Little Luck\"            Wings\n",
              "2319  2001  \"Love Don't Cost a Thing\"   Jennifer Lopez\n",
              "1403  1987                 \"Diamonds\"      Herb Alpert\n",
              "3336  2017     \"Too Good at Goodbyes\"        Sam Smith\n",
              "231   1966         \"Along Comes Mary\"  The Association\n",
              "1108  1983                 \"Overkill\"      Men at Work\n",
              "3301  2017            \"XO Tour Llif3\"     Lil Uzi Vert\n",
              "2609  2005                \"Your Body\"     Pretty Ricky\n",
              "2505  2003            \"Real Good Man\"       Tim McGraw\n",
              "1514  1989   \"Once Bitten, Twice Shy\"      Great White\n",
              "1289  1986                    \"Kyrie\"       Mr. Mister\n",
              "3383  2018       \"Young Dumb & Broke\"           Khalid"
            ],
            "text/html": [
              "\n",
              "  <div id=\"df-8a8a3877-f9bc-4fa1-abad-441398aedc89\">\n",
              "    <div class=\"colab-df-container\">\n",
              "      <div>\n",
              "<style scoped>\n",
              "    .dataframe tbody tr th:only-of-type {\n",
              "        vertical-align: middle;\n",
              "    }\n",
              "\n",
              "    .dataframe tbody tr th {\n",
              "        vertical-align: top;\n",
              "    }\n",
              "\n",
              "    .dataframe thead th {\n",
              "        text-align: right;\n",
              "    }\n",
              "</style>\n",
              "<table border=\"1\" class=\"dataframe\">\n",
              "  <thead>\n",
              "    <tr style=\"text-align: right;\">\n",
              "      <th></th>\n",
              "      <th>Year</th>\n",
              "      <th>Title</th>\n",
              "      <th>Artist(s)</th>\n",
              "    </tr>\n",
              "  </thead>\n",
              "  <tbody>\n",
              "    <tr>\n",
              "      <th>944</th>\n",
              "      <td>1980</td>\n",
              "      <td>\"Off the Wall\"</td>\n",
              "      <td>Michael Jackson</td>\n",
              "    </tr>\n",
              "    <tr>\n",
              "      <th>199</th>\n",
              "      <td>1966</td>\n",
              "      <td>\"Bus Stop\"</td>\n",
              "      <td>The Hollies</td>\n",
              "    </tr>\n",
              "    <tr>\n",
              "      <th>3351</th>\n",
              "      <td>2018</td>\n",
              "      <td>\"Lucid Dreams\"</td>\n",
              "      <td>Juice Wrld</td>\n",
              "    </tr>\n",
              "    <tr>\n",
              "      <th>2276</th>\n",
              "      <td>2000</td>\n",
              "      <td>\"He Can't Love U\"</td>\n",
              "      <td>Jagged Edge</td>\n",
              "    </tr>\n",
              "    <tr>\n",
              "      <th>801</th>\n",
              "      <td>1978</td>\n",
              "      <td>\"With a Little Luck\"</td>\n",
              "      <td>Wings</td>\n",
              "    </tr>\n",
              "    <tr>\n",
              "      <th>2319</th>\n",
              "      <td>2001</td>\n",
              "      <td>\"Love Don't Cost a Thing\"</td>\n",
              "      <td>Jennifer Lopez</td>\n",
              "    </tr>\n",
              "    <tr>\n",
              "      <th>1403</th>\n",
              "      <td>1987</td>\n",
              "      <td>\"Diamonds\"</td>\n",
              "      <td>Herb Alpert</td>\n",
              "    </tr>\n",
              "    <tr>\n",
              "      <th>3336</th>\n",
              "      <td>2017</td>\n",
              "      <td>\"Too Good at Goodbyes\"</td>\n",
              "      <td>Sam Smith</td>\n",
              "    </tr>\n",
              "    <tr>\n",
              "      <th>231</th>\n",
              "      <td>1966</td>\n",
              "      <td>\"Along Comes Mary\"</td>\n",
              "      <td>The Association</td>\n",
              "    </tr>\n",
              "    <tr>\n",
              "      <th>1108</th>\n",
              "      <td>1983</td>\n",
              "      <td>\"Overkill\"</td>\n",
              "      <td>Men at Work</td>\n",
              "    </tr>\n",
              "    <tr>\n",
              "      <th>3301</th>\n",
              "      <td>2017</td>\n",
              "      <td>\"XO Tour Llif3\"</td>\n",
              "      <td>Lil Uzi Vert</td>\n",
              "    </tr>\n",
              "    <tr>\n",
              "      <th>2609</th>\n",
              "      <td>2005</td>\n",
              "      <td>\"Your Body\"</td>\n",
              "      <td>Pretty Ricky</td>\n",
              "    </tr>\n",
              "    <tr>\n",
              "      <th>2505</th>\n",
              "      <td>2003</td>\n",
              "      <td>\"Real Good Man\"</td>\n",
              "      <td>Tim McGraw</td>\n",
              "    </tr>\n",
              "    <tr>\n",
              "      <th>1514</th>\n",
              "      <td>1989</td>\n",
              "      <td>\"Once Bitten, Twice Shy\"</td>\n",
              "      <td>Great White</td>\n",
              "    </tr>\n",
              "    <tr>\n",
              "      <th>1289</th>\n",
              "      <td>1986</td>\n",
              "      <td>\"Kyrie\"</td>\n",
              "      <td>Mr. Mister</td>\n",
              "    </tr>\n",
              "    <tr>\n",
              "      <th>3383</th>\n",
              "      <td>2018</td>\n",
              "      <td>\"Young Dumb &amp; Broke\"</td>\n",
              "      <td>Khalid</td>\n",
              "    </tr>\n",
              "  </tbody>\n",
              "</table>\n",
              "</div>\n",
              "      <button class=\"colab-df-convert\" onclick=\"convertToInteractive('df-8a8a3877-f9bc-4fa1-abad-441398aedc89')\"\n",
              "              title=\"Convert this dataframe to an interactive table.\"\n",
              "              style=\"display:none;\">\n",
              "        \n",
              "  <svg xmlns=\"http://www.w3.org/2000/svg\" height=\"24px\"viewBox=\"0 0 24 24\"\n",
              "       width=\"24px\">\n",
              "    <path d=\"M0 0h24v24H0V0z\" fill=\"none\"/>\n",
              "    <path d=\"M18.56 5.44l.94 2.06.94-2.06 2.06-.94-2.06-.94-.94-2.06-.94 2.06-2.06.94zm-11 1L8.5 8.5l.94-2.06 2.06-.94-2.06-.94L8.5 2.5l-.94 2.06-2.06.94zm10 10l.94 2.06.94-2.06 2.06-.94-2.06-.94-.94-2.06-.94 2.06-2.06.94z\"/><path d=\"M17.41 7.96l-1.37-1.37c-.4-.4-.92-.59-1.43-.59-.52 0-1.04.2-1.43.59L10.3 9.45l-7.72 7.72c-.78.78-.78 2.05 0 2.83L4 21.41c.39.39.9.59 1.41.59.51 0 1.02-.2 1.41-.59l7.78-7.78 2.81-2.81c.8-.78.8-2.07 0-2.86zM5.41 20L4 18.59l7.72-7.72 1.47 1.35L5.41 20z\"/>\n",
              "  </svg>\n",
              "      </button>\n",
              "      \n",
              "  <style>\n",
              "    .colab-df-container {\n",
              "      display:flex;\n",
              "      flex-wrap:wrap;\n",
              "      gap: 12px;\n",
              "    }\n",
              "\n",
              "    .colab-df-convert {\n",
              "      background-color: #E8F0FE;\n",
              "      border: none;\n",
              "      border-radius: 50%;\n",
              "      cursor: pointer;\n",
              "      display: none;\n",
              "      fill: #1967D2;\n",
              "      height: 32px;\n",
              "      padding: 0 0 0 0;\n",
              "      width: 32px;\n",
              "    }\n",
              "\n",
              "    .colab-df-convert:hover {\n",
              "      background-color: #E2EBFA;\n",
              "      box-shadow: 0px 1px 2px rgba(60, 64, 67, 0.3), 0px 1px 3px 1px rgba(60, 64, 67, 0.15);\n",
              "      fill: #174EA6;\n",
              "    }\n",
              "\n",
              "    [theme=dark] .colab-df-convert {\n",
              "      background-color: #3B4455;\n",
              "      fill: #D2E3FC;\n",
              "    }\n",
              "\n",
              "    [theme=dark] .colab-df-convert:hover {\n",
              "      background-color: #434B5C;\n",
              "      box-shadow: 0px 1px 3px 1px rgba(0, 0, 0, 0.15);\n",
              "      filter: drop-shadow(0px 1px 2px rgba(0, 0, 0, 0.3));\n",
              "      fill: #FFFFFF;\n",
              "    }\n",
              "  </style>\n",
              "\n",
              "      <script>\n",
              "        const buttonEl =\n",
              "          document.querySelector('#df-8a8a3877-f9bc-4fa1-abad-441398aedc89 button.colab-df-convert');\n",
              "        buttonEl.style.display =\n",
              "          google.colab.kernel.accessAllowed ? 'block' : 'none';\n",
              "\n",
              "        async function convertToInteractive(key) {\n",
              "          const element = document.querySelector('#df-8a8a3877-f9bc-4fa1-abad-441398aedc89');\n",
              "          const dataTable =\n",
              "            await google.colab.kernel.invokeFunction('convertToInteractive',\n",
              "                                                     [key], {});\n",
              "          if (!dataTable) return;\n",
              "\n",
              "          const docLinkHtml = 'Like what you see? Visit the ' +\n",
              "            '<a target=\"_blank\" href=https://colab.research.google.com/notebooks/data_table.ipynb>data table notebook</a>'\n",
              "            + ' to learn more about interactive tables.';\n",
              "          element.innerHTML = '';\n",
              "          dataTable['output_type'] = 'display_data';\n",
              "          await google.colab.output.renderOutput(dataTable, element);\n",
              "          const docLink = document.createElement('div');\n",
              "          docLink.innerHTML = docLinkHtml;\n",
              "          element.appendChild(docLink);\n",
              "        }\n",
              "      </script>\n",
              "    </div>\n",
              "  </div>\n",
              "  "
            ]
          },
          "metadata": {},
          "execution_count": 144
        }
      ]
    },
    {
      "cell_type": "code",
      "source": [
        "classification_model.predict([x_train.input_ids, x_train.token_type_ids, x_train.attention_mask], \n",
        "                             batch_size=8, \n",
        "                             steps=2)"
      ],
      "metadata": {
        "id": "T7pqkT4mwsIv",
        "colab": {
          "base_uri": "https://localhost:8080/"
        },
        "outputId": "f727a108-cfa2-43ee-de6c-7b175c54e5e8"
      },
      "id": "T7pqkT4mwsIv",
      "execution_count": 145,
      "outputs": [
        {
          "output_type": "execute_result",
          "data": {
            "text/plain": [
              "array([[7.80742790e-04, 5.56915142e-02, 9.02732372e-01, 3.46392468e-02,\n",
              "        4.89593437e-03, 1.13498431e-03, 1.25244027e-04],\n",
              "       [9.75394368e-01, 2.45229062e-02, 4.83770091e-05, 4.33338028e-06,\n",
              "        9.88066677e-06, 1.80606673e-06, 1.83763987e-05],\n",
              "       [1.05035608e-04, 1.00386569e-04, 1.31279099e-04, 5.58731961e-04,\n",
              "        1.89131144e-02, 8.94168973e-01, 8.60224590e-02],\n",
              "       [4.21893550e-04, 1.32443616e-04, 1.10858746e-04, 1.42595932e-01,\n",
              "        8.54080439e-01, 2.09400430e-03, 5.64501621e-04],\n",
              "       [6.67092064e-03, 9.90647376e-01, 2.64815195e-03, 7.15325268e-06,\n",
              "        3.44343653e-06, 5.81475479e-06, 1.70634794e-05],\n",
              "       [5.50470759e-05, 5.64732072e-05, 1.50893960e-04, 1.38980485e-02,\n",
              "        9.84890640e-01, 7.06712075e-04, 2.42238559e-04],\n",
              "       [2.07393826e-03, 1.02018248e-02, 9.77875829e-01, 9.75981727e-03,\n",
              "        6.67343120e-05, 1.79180806e-05, 3.92886068e-06],\n",
              "       [7.31752953e-05, 8.16038300e-05, 1.16638861e-04, 1.70482963e-04,\n",
              "        6.62229583e-03, 9.66039300e-01, 2.68965438e-02],\n",
              "       [7.97771335e-01, 2.02068597e-01, 7.09142550e-05, 2.58059772e-05,\n",
              "        2.28595818e-05, 8.30415956e-07, 3.96328214e-05],\n",
              "       [2.37571614e-04, 4.33982816e-03, 9.90468800e-01, 4.86830017e-03,\n",
              "        7.63097996e-05, 5.47669106e-06, 3.70895305e-06],\n",
              "       [3.22978449e-04, 2.27141209e-04, 8.09252306e-05, 4.67599463e-03,\n",
              "        4.19293158e-02, 8.63700330e-01, 8.90633389e-02],\n",
              "       [5.98698580e-06, 2.72341208e-06, 1.04678502e-05, 3.65557661e-03,\n",
              "        9.96124446e-01, 9.80446130e-05, 1.02674538e-04],\n",
              "       [5.11367247e-02, 3.00019551e-02, 1.80853736e-02, 6.77257851e-02,\n",
              "        8.10838282e-01, 1.34505834e-02, 8.76128394e-03],\n",
              "       [6.44494360e-03, 1.16926990e-01, 8.73257101e-01, 3.17100715e-03,\n",
              "        7.56428781e-05, 9.53706622e-05, 2.90022872e-05],\n",
              "       [1.30365632e-04, 9.03139114e-02, 9.09285128e-01, 6.31884686e-05,\n",
              "        2.33889677e-05, 8.17755426e-05, 1.02276863e-04],\n",
              "       [8.34262028e-06, 3.08035320e-04, 7.84100557e-05, 1.29797030e-04,\n",
              "        1.69446168e-04, 9.95550156e-01, 3.75586632e-03]], dtype=float32)"
            ]
          },
          "metadata": {},
          "execution_count": 145
        }
      ]
    },
    {
      "cell_type": "markdown",
      "source": [
        "Try get Test Results"
      ],
      "metadata": {
        "id": "ggohDUkFCw13"
      },
      "id": "ggohDUkFCw13"
    },
    {
      "cell_type": "code",
      "source": [
        "classification_model.evaluate([x_test.input_ids, x_test.token_type_ids, x_test.attention_mask], y_test, batch_size = 8)"
      ],
      "metadata": {
        "colab": {
          "base_uri": "https://localhost:8080/"
        },
        "id": "GKpBXNCaEdT1",
        "outputId": "4f42f178-b594-4259-97ae-ecd5bd2e8724"
      },
      "id": "GKpBXNCaEdT1",
      "execution_count": 146,
      "outputs": [
        {
          "output_type": "stream",
          "name": "stdout",
          "text": [
            "67/67 [==============================] - 21s 309ms/step - loss: 2.3247 - accuracy: 0.4053\n"
          ]
        },
        {
          "output_type": "execute_result",
          "data": {
            "text/plain": [
              "[2.3247270584106445, 0.4052532911300659]"
            ]
          },
          "metadata": {},
          "execution_count": 146
        }
      ]
    },
    {
      "cell_type": "code",
      "source": [
        "output = classification_model.predict([x_test.input_ids, x_test.token_type_ids, x_test.attention_mask],\n",
        "                             batch_size=8, \n",
        "                             steps=2)\n",
        "output"
      ],
      "metadata": {
        "colab": {
          "base_uri": "https://localhost:8080/"
        },
        "id": "h2I9aaSACzhJ",
        "outputId": "05eaa6ed-1149-44bf-f2b9-770d8aa49c1f"
      },
      "id": "h2I9aaSACzhJ",
      "execution_count": 149,
      "outputs": [
        {
          "output_type": "execute_result",
          "data": {
            "text/plain": [
              "array([[2.6904586e-01, 5.4671633e-01, 1.7262869e-01, 1.1039550e-02,\n",
              "        4.3732839e-04, 2.4990901e-05, 1.0713980e-04],\n",
              "       [1.8702472e-02, 1.0043058e-01, 1.1449845e-02, 7.0592180e-02,\n",
              "        6.9252378e-01, 6.0055766e-02, 4.6245366e-02],\n",
              "       [8.8085103e-01, 1.1891734e-01, 2.0806628e-04, 2.2031868e-06,\n",
              "        7.4377459e-07, 3.0849394e-06, 1.7616061e-05],\n",
              "       [5.5107051e-01, 4.1910261e-01, 2.6027141e-02, 2.4151108e-03,\n",
              "        9.4905839e-04, 7.6848002e-05, 3.5869799e-04],\n",
              "       [1.1611338e-03, 1.2602162e-01, 8.6014509e-01, 1.2424005e-02,\n",
              "        9.2764945e-05, 8.2643564e-05, 7.2692914e-05],\n",
              "       [8.7780179e-05, 8.4112288e-04, 6.9522439e-03, 1.7967901e-01,\n",
              "        8.0254126e-01, 8.4706573e-03, 1.4279548e-03],\n",
              "       [4.6354323e-03, 6.1945589e-03, 3.0303404e-02, 3.2350492e-02,\n",
              "        6.6357410e-01, 2.0521358e-01, 5.7728428e-02],\n",
              "       [1.3352485e-01, 1.6350628e-01, 5.0649446e-01, 1.8654929e-01,\n",
              "        8.7371208e-03, 8.8598137e-04, 3.0203420e-04],\n",
              "       [1.4330968e-03, 1.3493916e-02, 7.7063227e-01, 2.0811456e-01,\n",
              "        6.0346224e-03, 1.2579019e-04, 1.6566581e-04],\n",
              "       [5.2158651e-04, 3.3263555e-03, 5.5690465e-04, 7.1532731e-03,\n",
              "        7.6005381e-01, 1.9017370e-01, 3.8214359e-02],\n",
              "       [6.6025466e-02, 9.3308806e-01, 8.7615848e-04, 9.8845510e-07,\n",
              "        2.4058263e-06, 2.5854266e-07, 6.6570060e-06],\n",
              "       [7.1630464e-05, 2.7385826e-04, 2.5618938e-03, 9.9220473e-01,\n",
              "        4.8661428e-03, 1.2067610e-05, 9.5417972e-06],\n",
              "       [4.1875354e-04, 1.9557236e-03, 5.0952461e-02, 1.4908428e-01,\n",
              "        6.7504299e-01, 1.1989055e-01, 2.6552703e-03],\n",
              "       [3.0326369e-04, 3.1113325e-02, 4.9973300e-01, 1.5763508e-02,\n",
              "        1.1450328e-02, 4.3833432e-01, 3.3022820e-03],\n",
              "       [8.3871773e-03, 7.5680006e-01, 1.9480488e-01, 2.2719381e-02,\n",
              "        7.7116699e-03, 8.5694781e-03, 1.0073781e-03],\n",
              "       [9.1262054e-01, 8.5394733e-02, 1.4686804e-04, 4.3562942e-04,\n",
              "        8.7677507e-04, 5.6683102e-06, 5.1974732e-04]], dtype=float32)"
            ]
          },
          "metadata": {},
          "execution_count": 149
        }
      ]
    },
    {
      "cell_type": "code",
      "source": [
        "np.argmax(output[0])\n",
        "output[0][1]\n",
        "\n",
        "decade_dict = {0: \"1960s\", 1: \"1970s\", 2: \"1980s\", 3: \"1990s\", 4: '2000s', 5: \"2010s\", 6: \"2020s\"}\n",
        "\n",
        "for a in output:\n",
        "  b = np.argmax(a)\n",
        "  #print(b)\n",
        "  print(decade_dict.get(b))\n",
        "  print(a[b])"
      ],
      "metadata": {
        "colab": {
          "base_uri": "https://localhost:8080/"
        },
        "id": "94qpzTq4w4wD",
        "outputId": "b9b9228d-48b8-4c6b-e0e0-889a1dbb78f8"
      },
      "id": "94qpzTq4w4wD",
      "execution_count": 162,
      "outputs": [
        {
          "output_type": "stream",
          "name": "stdout",
          "text": [
            "1970s\n",
            "0.54671633\n",
            "2000s\n",
            "0.6925238\n",
            "1960s\n",
            "0.88085103\n",
            "1960s\n",
            "0.5510705\n",
            "1980s\n",
            "0.8601451\n",
            "2000s\n",
            "0.80254126\n",
            "2000s\n",
            "0.6635741\n",
            "1980s\n",
            "0.50649446\n",
            "1980s\n",
            "0.77063227\n",
            "2000s\n",
            "0.7600538\n",
            "1970s\n",
            "0.93308806\n",
            "1990s\n",
            "0.9922047\n",
            "2000s\n",
            "0.675043\n",
            "1980s\n",
            "0.499733\n",
            "1970s\n",
            "0.75680006\n",
            "1960s\n",
            "0.91262054\n"
          ]
        }
      ]
    },
    {
      "cell_type": "code",
      "source": [
        "meta_test[:16]"
      ],
      "metadata": {
        "colab": {
          "base_uri": "https://localhost:8080/",
          "height": 551
        },
        "id": "UteAKvb-Ecxk",
        "outputId": "15c45473-8328-4c9e-cd7f-fc00118b99f6"
      },
      "id": "UteAKvb-Ecxk",
      "execution_count": 150,
      "outputs": [
        {
          "output_type": "execute_result",
          "data": {
            "text/plain": [
              "      Year                              Title               Artist(s)\n",
              "1580  1990           \"I Don't Have the Heart\"            James Ingram\n",
              "756   1977                          \"Lucille\"            Kenny Rogers\n",
              "3436  2019                       \"Baby Shark\"                Pinkfong\n",
              "70    1962                \"Town Without Pity\"             Gene Pitney\n",
              "2626  2006                          \"Bad Day\"           Daniel Powter\n",
              "2313  2001                        \"Follow Me\"           Uncle Kracker\n",
              "2366  2001  \"You Shouldn't Kiss Me Like This\"              Toby Keith\n",
              "1360  1987                      \"Head to Toe\"  Lisa Lisa and Cult Jam\n",
              "1977  1996                      \"Insensitive\"              Jann Arden\n",
              "2831  2009               \"Hotel Room Service\"                 Pitbull\n",
              "905   1980                        \"Funkytown\"               Lipps Inc\n",
              "1551  1989              \"What You Don't Know\"                  Exposé\n",
              "3241  2016                            \"Sorry\"           Justin Bieber\n",
              "3348  2018                          \"Perfect\"              Ed Sheeran\n",
              "3089  2013                     \"Little Talks\"     Of Monsters and Men\n",
              "350   1969                  \"A Boy Named Sue\"             Johnny Cash"
            ],
            "text/html": [
              "\n",
              "  <div id=\"df-e0cc018e-0c42-4e95-8110-2a8e5472be7b\">\n",
              "    <div class=\"colab-df-container\">\n",
              "      <div>\n",
              "<style scoped>\n",
              "    .dataframe tbody tr th:only-of-type {\n",
              "        vertical-align: middle;\n",
              "    }\n",
              "\n",
              "    .dataframe tbody tr th {\n",
              "        vertical-align: top;\n",
              "    }\n",
              "\n",
              "    .dataframe thead th {\n",
              "        text-align: right;\n",
              "    }\n",
              "</style>\n",
              "<table border=\"1\" class=\"dataframe\">\n",
              "  <thead>\n",
              "    <tr style=\"text-align: right;\">\n",
              "      <th></th>\n",
              "      <th>Year</th>\n",
              "      <th>Title</th>\n",
              "      <th>Artist(s)</th>\n",
              "    </tr>\n",
              "  </thead>\n",
              "  <tbody>\n",
              "    <tr>\n",
              "      <th>1580</th>\n",
              "      <td>1990</td>\n",
              "      <td>\"I Don't Have the Heart\"</td>\n",
              "      <td>James Ingram</td>\n",
              "    </tr>\n",
              "    <tr>\n",
              "      <th>756</th>\n",
              "      <td>1977</td>\n",
              "      <td>\"Lucille\"</td>\n",
              "      <td>Kenny Rogers</td>\n",
              "    </tr>\n",
              "    <tr>\n",
              "      <th>3436</th>\n",
              "      <td>2019</td>\n",
              "      <td>\"Baby Shark\"</td>\n",
              "      <td>Pinkfong</td>\n",
              "    </tr>\n",
              "    <tr>\n",
              "      <th>70</th>\n",
              "      <td>1962</td>\n",
              "      <td>\"Town Without Pity\"</td>\n",
              "      <td>Gene Pitney</td>\n",
              "    </tr>\n",
              "    <tr>\n",
              "      <th>2626</th>\n",
              "      <td>2006</td>\n",
              "      <td>\"Bad Day\"</td>\n",
              "      <td>Daniel Powter</td>\n",
              "    </tr>\n",
              "    <tr>\n",
              "      <th>2313</th>\n",
              "      <td>2001</td>\n",
              "      <td>\"Follow Me\"</td>\n",
              "      <td>Uncle Kracker</td>\n",
              "    </tr>\n",
              "    <tr>\n",
              "      <th>2366</th>\n",
              "      <td>2001</td>\n",
              "      <td>\"You Shouldn't Kiss Me Like This\"</td>\n",
              "      <td>Toby Keith</td>\n",
              "    </tr>\n",
              "    <tr>\n",
              "      <th>1360</th>\n",
              "      <td>1987</td>\n",
              "      <td>\"Head to Toe\"</td>\n",
              "      <td>Lisa Lisa and Cult Jam</td>\n",
              "    </tr>\n",
              "    <tr>\n",
              "      <th>1977</th>\n",
              "      <td>1996</td>\n",
              "      <td>\"Insensitive\"</td>\n",
              "      <td>Jann Arden</td>\n",
              "    </tr>\n",
              "    <tr>\n",
              "      <th>2831</th>\n",
              "      <td>2009</td>\n",
              "      <td>\"Hotel Room Service\"</td>\n",
              "      <td>Pitbull</td>\n",
              "    </tr>\n",
              "    <tr>\n",
              "      <th>905</th>\n",
              "      <td>1980</td>\n",
              "      <td>\"Funkytown\"</td>\n",
              "      <td>Lipps Inc</td>\n",
              "    </tr>\n",
              "    <tr>\n",
              "      <th>1551</th>\n",
              "      <td>1989</td>\n",
              "      <td>\"What You Don't Know\"</td>\n",
              "      <td>Exposé</td>\n",
              "    </tr>\n",
              "    <tr>\n",
              "      <th>3241</th>\n",
              "      <td>2016</td>\n",
              "      <td>\"Sorry\"</td>\n",
              "      <td>Justin Bieber</td>\n",
              "    </tr>\n",
              "    <tr>\n",
              "      <th>3348</th>\n",
              "      <td>2018</td>\n",
              "      <td>\"Perfect\"</td>\n",
              "      <td>Ed Sheeran</td>\n",
              "    </tr>\n",
              "    <tr>\n",
              "      <th>3089</th>\n",
              "      <td>2013</td>\n",
              "      <td>\"Little Talks\"</td>\n",
              "      <td>Of Monsters and Men</td>\n",
              "    </tr>\n",
              "    <tr>\n",
              "      <th>350</th>\n",
              "      <td>1969</td>\n",
              "      <td>\"A Boy Named Sue\"</td>\n",
              "      <td>Johnny Cash</td>\n",
              "    </tr>\n",
              "  </tbody>\n",
              "</table>\n",
              "</div>\n",
              "      <button class=\"colab-df-convert\" onclick=\"convertToInteractive('df-e0cc018e-0c42-4e95-8110-2a8e5472be7b')\"\n",
              "              title=\"Convert this dataframe to an interactive table.\"\n",
              "              style=\"display:none;\">\n",
              "        \n",
              "  <svg xmlns=\"http://www.w3.org/2000/svg\" height=\"24px\"viewBox=\"0 0 24 24\"\n",
              "       width=\"24px\">\n",
              "    <path d=\"M0 0h24v24H0V0z\" fill=\"none\"/>\n",
              "    <path d=\"M18.56 5.44l.94 2.06.94-2.06 2.06-.94-2.06-.94-.94-2.06-.94 2.06-2.06.94zm-11 1L8.5 8.5l.94-2.06 2.06-.94-2.06-.94L8.5 2.5l-.94 2.06-2.06.94zm10 10l.94 2.06.94-2.06 2.06-.94-2.06-.94-.94-2.06-.94 2.06-2.06.94z\"/><path d=\"M17.41 7.96l-1.37-1.37c-.4-.4-.92-.59-1.43-.59-.52 0-1.04.2-1.43.59L10.3 9.45l-7.72 7.72c-.78.78-.78 2.05 0 2.83L4 21.41c.39.39.9.59 1.41.59.51 0 1.02-.2 1.41-.59l7.78-7.78 2.81-2.81c.8-.78.8-2.07 0-2.86zM5.41 20L4 18.59l7.72-7.72 1.47 1.35L5.41 20z\"/>\n",
              "  </svg>\n",
              "      </button>\n",
              "      \n",
              "  <style>\n",
              "    .colab-df-container {\n",
              "      display:flex;\n",
              "      flex-wrap:wrap;\n",
              "      gap: 12px;\n",
              "    }\n",
              "\n",
              "    .colab-df-convert {\n",
              "      background-color: #E8F0FE;\n",
              "      border: none;\n",
              "      border-radius: 50%;\n",
              "      cursor: pointer;\n",
              "      display: none;\n",
              "      fill: #1967D2;\n",
              "      height: 32px;\n",
              "      padding: 0 0 0 0;\n",
              "      width: 32px;\n",
              "    }\n",
              "\n",
              "    .colab-df-convert:hover {\n",
              "      background-color: #E2EBFA;\n",
              "      box-shadow: 0px 1px 2px rgba(60, 64, 67, 0.3), 0px 1px 3px 1px rgba(60, 64, 67, 0.15);\n",
              "      fill: #174EA6;\n",
              "    }\n",
              "\n",
              "    [theme=dark] .colab-df-convert {\n",
              "      background-color: #3B4455;\n",
              "      fill: #D2E3FC;\n",
              "    }\n",
              "\n",
              "    [theme=dark] .colab-df-convert:hover {\n",
              "      background-color: #434B5C;\n",
              "      box-shadow: 0px 1px 3px 1px rgba(0, 0, 0, 0.15);\n",
              "      filter: drop-shadow(0px 1px 2px rgba(0, 0, 0, 0.3));\n",
              "      fill: #FFFFFF;\n",
              "    }\n",
              "  </style>\n",
              "\n",
              "      <script>\n",
              "        const buttonEl =\n",
              "          document.querySelector('#df-e0cc018e-0c42-4e95-8110-2a8e5472be7b button.colab-df-convert');\n",
              "        buttonEl.style.display =\n",
              "          google.colab.kernel.accessAllowed ? 'block' : 'none';\n",
              "\n",
              "        async function convertToInteractive(key) {\n",
              "          const element = document.querySelector('#df-e0cc018e-0c42-4e95-8110-2a8e5472be7b');\n",
              "          const dataTable =\n",
              "            await google.colab.kernel.invokeFunction('convertToInteractive',\n",
              "                                                     [key], {});\n",
              "          if (!dataTable) return;\n",
              "\n",
              "          const docLinkHtml = 'Like what you see? Visit the ' +\n",
              "            '<a target=\"_blank\" href=https://colab.research.google.com/notebooks/data_table.ipynb>data table notebook</a>'\n",
              "            + ' to learn more about interactive tables.';\n",
              "          element.innerHTML = '';\n",
              "          dataTable['output_type'] = 'display_data';\n",
              "          await google.colab.output.renderOutput(dataTable, element);\n",
              "          const docLink = document.createElement('div');\n",
              "          docLink.innerHTML = docLinkHtml;\n",
              "          element.appendChild(docLink);\n",
              "        }\n",
              "      </script>\n",
              "    </div>\n",
              "  </div>\n",
              "  "
            ]
          },
          "metadata": {},
          "execution_count": 150
        }
      ]
    },
    {
      "cell_type": "code",
      "source": [
        "\n",
        "[print(a) for a in output[5]]"
      ],
      "metadata": {
        "colab": {
          "base_uri": "https://localhost:8080/"
        },
        "id": "ah6-jRy-RFIz",
        "outputId": "b8df56a3-3381-4a1c-c290-c52c0df40e02"
      },
      "id": "ah6-jRy-RFIz",
      "execution_count": 151,
      "outputs": [
        {
          "output_type": "stream",
          "name": "stdout",
          "text": [
            "8.778018e-05\n",
            "0.0008411229\n",
            "0.006952244\n",
            "0.179679\n",
            "0.80254126\n",
            "0.008470657\n",
            "0.0014279548\n"
          ]
        },
        {
          "output_type": "execute_result",
          "data": {
            "text/plain": [
              "[None, None, None, None, None, None, None]"
            ]
          },
          "metadata": {},
          "execution_count": 151
        }
      ]
    },
    {
      "cell_type": "markdown",
      "metadata": {
        "id": "XL76Rnd1s9ct"
      },
      "source": [
        "That seemed to work! Looks like the learning rate really mattered! (Of course, we have not focused here on finding the model for the test accuracy. We simply wanted to 'get it to work').\n",
        "\n",
        "#### 5.3 Layer Freezing"
      ],
      "id": "XL76Rnd1s9ct"
    },
    {
      "cell_type": "code",
      "execution_count": null,
      "metadata": {
        "id": "5mOQgYqgs9ct",
        "colab": {
          "base_uri": "https://localhost:8080/"
        },
        "outputId": "c49b515e-ef31-4884-c6a2-c01de7ab9bc4"
      },
      "outputs": [
        {
          "output_type": "stream",
          "name": "stderr",
          "text": [
            "Some layers from the model checkpoint at bert-base-cased were not used when initializing TFBertModel: ['nsp___cls', 'mlm___cls']\n",
            "- This IS expected if you are initializing TFBertModel from the checkpoint of a model trained on another task or with another architecture (e.g. initializing a BertForSequenceClassification model from a BertForPreTraining model).\n",
            "- This IS NOT expected if you are initializing TFBertModel from the checkpoint of a model that you expect to be exactly identical (initializing a BertForSequenceClassification model from a BertForSequenceClassification model).\n",
            "All the layers of TFBertModel were initialized from the model checkpoint at bert-base-cased.\n",
            "If your task is similar to the task the model of the checkpoint was trained on, you can already use TFBertModel for predictions without further training.\n"
          ]
        },
        {
          "output_type": "stream",
          "name": "stdout",
          "text": [
            "Epoch 1/5\n",
            "311/311 [==============================] - 147s 455ms/step - loss: 1.8666 - accuracy: 0.2143 - val_loss: 1.7656 - val_accuracy: 0.2425\n",
            "Epoch 2/5\n",
            "311/311 [==============================] - 139s 446ms/step - loss: 1.7815 - accuracy: 0.2413 - val_loss: 1.7225 - val_accuracy: 0.2914\n",
            "Epoch 3/5\n",
            "311/311 [==============================] - 139s 446ms/step - loss: 1.7452 - accuracy: 0.2591 - val_loss: 1.7116 - val_accuracy: 0.3083\n",
            "Epoch 4/5\n",
            "311/311 [==============================] - 138s 446ms/step - loss: 1.7346 - accuracy: 0.2760 - val_loss: 1.6789 - val_accuracy: 0.2970\n",
            "Epoch 5/5\n",
            "311/311 [==============================] - 138s 445ms/step - loss: 1.7059 - accuracy: 0.2869 - val_loss: 1.6942 - val_accuracy: 0.2726\n"
          ]
        },
        {
          "output_type": "execute_result",
          "data": {
            "text/plain": [
              "<keras.callbacks.History at 0x7f7c0830df10>"
            ]
          },
          "metadata": {},
          "execution_count": 22
        }
      ],
      "source": [
        "try:\n",
        "    del classification_model\n",
        "except:\n",
        "    pass\n",
        "\n",
        "try:\n",
        "    del bert_model\n",
        "except:\n",
        "    pass\n",
        "\n",
        "tf.keras.backend.clear_session()\n",
        "bert_model = TFBertModel.from_pretrained('bert-base-cased')\n",
        "\n",
        "classification_model = create_classification_model(train_layers=0, optimizer=tf.keras.optimizers.Adam(0.00005))\n",
        "\n",
        "classification_model.fit([x_train.input_ids, x_train.token_type_ids, x_train.attention_mask],\n",
        "                         y_train,\n",
        "                         validation_data=([x_val.input_ids, x_val.token_type_ids, x_val.attention_mask],\n",
        "                         y_val),\n",
        "                        epochs=5,\n",
        "                        batch_size=8)\n",
        "\n",
        "## Commented out to run below after i interupt this training\n",
        "# classification_model.predict([x_train.input_ids, x_train.token_type_ids, x_train.attention_mask], \n",
        "#                              batch_size=8, \n",
        "#                              steps=2)"
      ],
      "id": "5mOQgYqgs9ct"
    },
    {
      "cell_type": "code",
      "source": [
        "classification_model.predict([x_train.input_ids, x_train.token_type_ids, x_train.attention_mask], \n",
        "                             batch_size=8, \n",
        "                             steps=2)"
      ],
      "metadata": {
        "id": "yx73dFeRw--B",
        "colab": {
          "base_uri": "https://localhost:8080/"
        },
        "outputId": "efe0d921-88f1-43fe-8421-3ad71eb1f58f"
      },
      "id": "yx73dFeRw--B",
      "execution_count": null,
      "outputs": [
        {
          "output_type": "execute_result",
          "data": {
            "text/plain": [
              "array([[0.10838161, 0.12395237, 0.11297233, 0.2545635 , 0.20368686,\n",
              "        0.17494014, 0.02150316],\n",
              "       [0.33020565, 0.1948801 , 0.14751196, 0.1926287 , 0.08554932,\n",
              "        0.04023276, 0.00899153],\n",
              "       [0.05219409, 0.03676203, 0.05673169, 0.35943377, 0.32667145,\n",
              "        0.15617442, 0.01203257],\n",
              "       [0.04303299, 0.03225997, 0.0410823 , 0.3011085 , 0.44117025,\n",
              "        0.12901987, 0.01232615],\n",
              "       [0.11723087, 0.12768649, 0.1269095 , 0.3073693 , 0.18083014,\n",
              "        0.12007658, 0.01989715],\n",
              "       [0.06708151, 0.05153055, 0.07156489, 0.3884395 , 0.3004704 ,\n",
              "        0.10505016, 0.01586301],\n",
              "       [0.11188804, 0.11146164, 0.16245691, 0.4072772 , 0.13227688,\n",
              "        0.06358927, 0.01105001],\n",
              "       [0.08536007, 0.08014455, 0.10582654, 0.27618316, 0.22742192,\n",
              "        0.1999968 , 0.02506698],\n",
              "       [0.14888608, 0.2028337 , 0.15904713, 0.24803303, 0.15255906,\n",
              "        0.07070753, 0.01793355],\n",
              "       [0.4084347 , 0.217292  , 0.18999252, 0.11151483, 0.05053005,\n",
              "        0.01715338, 0.00508256],\n",
              "       [0.04354434, 0.04588147, 0.0363804 , 0.27436718, 0.3530786 ,\n",
              "        0.2272813 , 0.01946673],\n",
              "       [0.08639728, 0.06406841, 0.06761487, 0.24102749, 0.3439807 ,\n",
              "        0.17377427, 0.02313702],\n",
              "       [0.24800302, 0.16043231, 0.11993266, 0.27820897, 0.14294308,\n",
              "        0.04206214, 0.00841781],\n",
              "       [0.06363042, 0.06745552, 0.06464549, 0.25279665, 0.29538104,\n",
              "        0.23297144, 0.02311945],\n",
              "       [0.1522156 , 0.22348146, 0.21459335, 0.18957187, 0.08840373,\n",
              "        0.115888  , 0.01584601],\n",
              "       [0.08614106, 0.14205264, 0.22028661, 0.32854578, 0.09845068,\n",
              "        0.10389219, 0.02063117]], dtype=float32)"
            ]
          },
          "metadata": {},
          "execution_count": 23
        }
      ]
    },
    {
      "cell_type": "markdown",
      "metadata": {
        "id": "1TzcThvus9ct"
      },
      "source": [
        "That 'worked' too! As expected, the final validation loss is larger and the validation accuracy is smaller though.\n",
        "\n",
        "**Questions:**\n",
        "* is that expected? \n",
        "* What else is different?\n",
        "\n",
        "But either way, all of these parameters seem to be interrelated. Experiment!\n",
        "\n",
        "---\n",
        "\n",
        "#### Idea for Viz of output\n",
        "\n",
        "Similarity matrix for 10 \"well-known\" songs\n",
        "\n",
        "Y = True Decade,\n",
        "X = Pred Decade\n",
        "\n",
        "further apart = redder. exactly on = green\n",
        "\n",
        "---\n",
        "\n",
        "### 6. Conclusions \n",
        "\n",
        "While one has to be careful to generalize from one (truncated) dataset, the pattern is pretty clear: it is not enough to simply define the model and see what you get. Some investigation needs to be devoted to making sure that the combination of model details, optimizer configurations, and data work.\n",
        "\n",
        "One big tell is if a BERT model is not better than ~'pick the majority class' or close to it, while other models perform better. \n",
        "\n",
        "One should also say that there are other things to try in the learning phase, but the point of this notebook was to point out a few obvious issues. Previous students ran into precisely these issues!"
      ],
      "id": "1TzcThvus9ct"
    },
    {
      "cell_type": "code",
      "source": [
        ""
      ],
      "metadata": {
        "id": "sW_b00YQq20v"
      },
      "id": "sW_b00YQq20v",
      "execution_count": null,
      "outputs": []
    }
  ],
  "metadata": {
    "kernelspec": {
      "display_name": "Python 3",
      "language": "python",
      "name": "python3"
    },
    "language_info": {
      "codemirror_mode": {
        "name": "ipython",
        "version": 3
      },
      "file_extension": ".py",
      "mimetype": "text/x-python",
      "name": "python",
      "nbconvert_exporter": "python",
      "pygments_lexer": "ipython3",
      "version": "3.8.5"
    },
    "colab": {
      "name": "Copy of Copy of Casey_BERT_Fine-tuning.ipynb",
      "provenance": [],
      "collapsed_sections": []
    },
    "accelerator": "GPU"
  },
  "nbformat": 4,
  "nbformat_minor": 5
}